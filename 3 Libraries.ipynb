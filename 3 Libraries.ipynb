{
 "cells": [
  {
   "cell_type": "markdown",
   "metadata": {},
   "source": [
    "# Part 3: Libraries"
   ]
  },
  {
   "cell_type": "markdown",
   "metadata": {},
   "source": [
    "# PyTest: Unit Testing\n",
    "# NumPy: You should know this one\n",
    "# Pandas: DataFrames for Python\n",
    "# Numba: JIT for Speed!\n",
    "# Pybind11: Use C++ libraries\n",
    "# Code Quality and CI"
   ]
  },
  {
   "cell_type": "code",
   "execution_count": null,
   "metadata": {},
   "outputs": [],
   "source": [
    "%config InteractiveShell.ast_node_interactivity=\"last_expr_or_assign\"\n",
    "\n",
    "# Could enable pretty tracebacks (ONLY DO IN APPLICATION, NOT LIBRARY):\n",
    "# import rich.traceback\n",
    "# rich.traceback.install(show_locals=True)\n",
    "#\n",
    "# Or pretty-printing by default\n",
    "# rich.pretty.install()"
   ]
  },
  {
   "cell_type": "code",
   "execution_count": null,
   "metadata": {},
   "outputs": [],
   "source": []
  }
 ],
 "metadata": {
  "kernelspec": {
   "display_name": "Python [conda env:level-up-your-python] *",
   "language": "python",
   "name": "conda-env-level-up-your-python-py"
  },
  "language_info": {
   "codemirror_mode": {
    "name": "ipython",
    "version": 3
   },
   "file_extension": ".py",
   "mimetype": "text/x-python",
   "name": "python",
   "nbconvert_exporter": "python",
   "pygments_lexer": "ipython3",
   "version": "3.8.6"
  }
 },
 "nbformat": 4,
 "nbformat_minor": 4
}
