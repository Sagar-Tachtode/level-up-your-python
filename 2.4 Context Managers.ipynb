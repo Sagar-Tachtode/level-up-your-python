{
 "cells": [
  {
   "cell_type": "markdown",
   "metadata": {},
   "source": [
    "# Context Managers\n",
    "\n",
    "Yes! Our journey is complete, we are where I wanted to be. Context managers are one of my favorites, and a little underused, expecially in user code, when they are really easy to both write and use (while decorators, for comparison, are really easy to use but a bit tricky to write). A context manager has a specific purpose.\n",
    "\n",
    "The first is what I call \"action at a distance\". It lets you schedule an action for later that is sure to always happen (unless you get a segfault, or exit a really nasty way). This is likely the most famous context manager:\n",
    "\n",
    "```python\n",
    "with open(...) as f:\n",
    "    txt = f.readlines()\n",
    "```\n",
    "\n",
    "When you enter the with block, `__enter__` is called and the result is assigned to the `as` target, if there is one. Then when you leave the block, `__exit__` is called. If you leave via an exception, `__exit__` gets special arguments that let you even decide what to do based on that the exception is - or even handle the exception and continue. `contextlib` has several simple context managers, like `redirect_stdout`, `redirect_stdout`, and `suppress`:"
   ]
  },
  {
   "cell_type": "code",
   "execution_count": null,
   "metadata": {},
   "outputs": [],
   "source": [
    "import contextlib\n",
    "\n",
    "with contextlib.suppress(ZeroDivisionError):\n",
    "    1 / 0"
   ]
  },
  {
   "cell_type": "markdown",
   "metadata": {},
   "source": [
    "But the real star of contextlib is `contextmanager`, which is a decorator that makes writing contextmanagers really easy. Let's try one of my favorites, a timer context manager:"
   ]
  },
  {
   "cell_type": "code",
   "execution_count": null,
   "metadata": {},
   "outputs": [],
   "source": [
    "import time\n",
    "\n",
    "\n",
    "@contextlib.contextmanager\n",
    "def timer():\n",
    "    old_time = time.monotonic()\n",
    "    try:\n",
    "        yield\n",
    "    finally:\n",
    "        new_time = time.monotonic()\n",
    "        print(f\"Time taken: {new_time - old_time} seconds\")"
   ]
  },
  {
   "cell_type": "code",
   "execution_count": null,
   "metadata": {},
   "outputs": [],
   "source": [
    "with timer():\n",
    "    print(\"Start\")\n",
    "    time.sleep(1.5)\n",
    "    print(\"End\")"
   ]
  },
  {
   "cell_type": "markdown",
   "metadata": {},
   "source": [
    "As an extra bonus, `contextmanager` uses `ContextDecorator`, so the objects it makes can also be used as Dectorators! [Pretty much everything](https://docs.python.org/3/library/contextlib.html) in the `contextlib` module that does not have the word `async` in it is worth learning. `contextlib.closing` turns an object with a `.close()` into a context manager, and `contextlib.ExitStack` lets you nest context managers without eating up massive amounts of whitespace."
   ]
  },
  {
   "cell_type": "code",
   "execution_count": null,
   "metadata": {},
   "outputs": [],
   "source": [
    "@timer()\n",
    "def long_function():\n",
    "    print(\"Start\")\n",
    "    time.sleep(1.5)\n",
    "    print(\"End\")\n",
    "\n",
    "\n",
    "long_function()"
   ]
  },
  {
   "cell_type": "markdown",
   "metadata": {},
   "source": [
    "## Quick note: Async\n",
    "\n",
    "Everything we've been doing has built on itself, and we seemed to be going somewhere; the pinnicle of this direction was asctually not context managers, but `async/await`. All of this feeds into `async/await`, which was formally interoduced as a langauage component in Python 3.6. However, we did skip two neccesary steps; we didn't talk about generators (iterators can actually \"send\" values in, not just produce them, but there's no specific constuct for doing that, like there is for consuming values in a for loop), and we didn't talk about `yield from`, which lets you put an iterator or generator inside another one. The main reason we didn't try to reach `async` though is that I've never found a great use for it in scientific programming; it is much more intrusive than normal threading, it doesn't really \"live\" side-by-side with normal syncronious programming all that well (it's better now, though), and the libraries for it are a little young. Feel free to investigate on your own, though! I've also discussed the mechanisms behind it in detail in my blog."
   ]
  },
  {
   "cell_type": "code",
   "execution_count": null,
   "metadata": {},
   "outputs": [],
   "source": []
  }
 ],
 "metadata": {
  "kernelspec": {
   "display_name": "conda-env-level-up-your-python-py",
   "language": "python",
   "name": "conda-env-level-up-your-python-py"
  },
  "language_info": {
   "codemirror_mode": {
    "name": "ipython",
    "version": 3
   },
   "file_extension": ".py",
   "mimetype": "text/x-python",
   "name": "python",
   "nbconvert_exporter": "python",
   "pygments_lexer": "ipython3",
   "version": "3.8.6"
  },
  "toc-autonumbering": false,
  "toc-showmarkdowntxt": false,
  "toc-showtags": false
 },
 "nbformat": 4,
 "nbformat_minor": 4
}
