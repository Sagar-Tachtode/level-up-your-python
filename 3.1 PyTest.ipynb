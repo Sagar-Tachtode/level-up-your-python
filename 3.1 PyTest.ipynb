{
 "cells": [
  {
   "cell_type": "markdown",
   "metadata": {},
   "source": [
    "# PyTest: Unit Testing"
   ]
  },
  {
   "cell_type": "markdown",
   "metadata": {},
   "source": [
    "Due to a class on testing, we won't cover much, just a few tips. I highly recommend taking some time to learn advanced PyTest, as anything that makes writing tests easiser enables more and better testing, which is always a plus!"
   ]
  },
  {
   "cell_type": "markdown",
   "metadata": {},
   "source": [
    "## Tests should be easy\n",
    "\n",
    "Always use PyTest. The built-in unittest is _very_ verbose; the simpler the writing of tests, the more tests you will write!\n",
    "\n",
    "```python\n",
    "import unittest\n",
    "\n",
    "class MyTestCase(unittest.TestCase)\n",
    "    def test_something(self):\n",
    "        x = 1\n",
    "        self.assertEquals(x, 2)\n",
    "```\n",
    "\n",
    "Contrast this to pytest:\n",
    "\n",
    "```python\n",
    "def test_something():\n",
    "    x = 1\n",
    "    assert x == 2\n",
    "```\n",
    "\n",
    "PyTest still gives you clear breakdowns, including what the value of `x` actually is, even though it seems to use the Python `assert` statement! You don't need to set up a class (though you can), and you don't need to remember 50 or so different `self.assert*` functions! PyTest can also run unittest tests, as well as the old `nose` package's tests, too.\n",
    "\n",
    "Approximately equals is normally ugly to check, but PyTest makes it easy too:\n",
    "\n",
    "```python\n",
    "from pytest import approx\n",
    "\n",
    "def test_approx():\n",
    "    .3333333333333 == approx(1/3)\n",
    "```"
   ]
  },
  {
   "cell_type": "markdown",
   "metadata": {},
   "source": [
    "## Tests should test for failures too\n",
    "\n",
    "\n",
    "You should make sure that expected errors are thrown:\n",
    "\n",
    "\n",
    "```python\n",
    "import pytest\n",
    "\n",
    "def test_raises():\n",
    "    with pytest.raises(ZeroDivisionError):\n",
    "        1 / 0\n",
    "```\n",
    "\n",
    "You can check for warnings as well, with `pytest.warns` or `pytest.deprecated_call`."
   ]
  },
  {
   "cell_type": "markdown",
   "metadata": {},
   "source": [
    "## Tests should stay easy when scaling out\n",
    "\n",
    "PyTest [uses fixtures](https://docs.pytest.org/en/stable/fixture.html) to represent complex ideas, like setup/teardown, temporary resources, or parameterization.\n",
    "\n",
    "\n",
    "A fixture looks like a function argument; PyTest recognizes them by name:\n",
    "\n",
    "```python\n",
    "def test_printout(capsys):\n",
    "    print(\"hello\")\n",
    "    \n",
    "    captured = capsys.readouterr()\n",
    "    assert \"hello\" in captured.out\n",
    "```\n",
    "\n",
    "Making a new fixture is not too hard, and can be placed in the test file or in `conftest.py`:\n",
    "\n",
    "\n",
    "```python\n",
    "@pytest.fixture(params=[1,2,3], ids=[\"one\", \"two\", \"three\"])\n",
    "def ints(request):\n",
    "    return request.param\n",
    "```\n",
    "\n",
    "We could have left off `ids`, but for complex inputs, this lets the tests have beautiful names.\n",
    "\n",
    "Now, you can use it:\n",
    "\n",
    "```python\n",
    "def test_on_ints(ints):\n",
    "    assert ints**2 == ints*ints\n",
    "```\n",
    "\n",
    "Now you will get three tests, `test_on_ints-one`, `test_on_ints-two`, and `test_on_ints-three`!\n",
    "\n",
    "Fixtures can be scoped, allowing simple setup/teardown (use `yield` if you need to run teardown). You can even set `autouse=True` to use a fixture always in a file or module (via `conftest.py`). You can have `conftest.py`'s in nested folders, too!"
   ]
  },
  {
   "cell_type": "markdown",
   "metadata": {},
   "source": [
    "Here's an advanced example, which also uses `monkeypatch`, which is a great way for making things hard to split into units into unit tests. Let's say you wanted to make a test that \"tricked\" your code into thinking that it was running on different platforms:\n",
    "\n",
    "```python\n",
    "import platform\n",
    "import pytest\n",
    "\n",
    "@pytest.fixture(params=['Linux', 'Darwin', 'Windows'], autouse=True)\n",
    "def platform_system(request, monkeypatch):\n",
    "    monkeypatch.setattr(platform, \"system\", lambda _: request.param)\n",
    "```\n",
    "\n",
    "Now every test in the file this is in (or the directory that this is in if in conftest) will run three times, and each time will identify as a different `platform.system()`! Leave `autouse` off, and it becomes opt-in; adding `platform_system` to the list of arguments will opt in."
   ]
  },
  {
   "cell_type": "markdown",
   "metadata": {},
   "source": [
    "## Tests should be organized\n",
    "\n",
    "You can use `pytest.mark.*` to mark tests, so you can easily turn on or off groups of tests, or do something else special with marked tests, like tests marked \"slow\", for example. Probably the most useful built-in mark is `skipif`:\n",
    "\n",
    "```python\n",
    "@pytest.mark.skipif(\"sys.version_info < (3, 8)\")\n",
    "def test_only_on_37plus():\n",
    "    x = 3\n",
    "    assert f\"{x = }\" == \"x = 3\"\n",
    "```\n",
    "\n",
    "Now this test will only run on Python 3.8, and will be skipped on earlier versions. You don't have to use a string for the condition, but if you don't, add a `reason=` so there will still be nice printout explaining why the test was skipped.\n",
    "\n",
    "You can also use `xfail` for tests that are expected to fail (you can even strictly test them as failing if you want). You can use `parametrize` to make a single parameterized test instead of sharing them (with fixtures). There's a `filterwarnings` mark, too.\n",
    "\n",
    "Many PyTest plugins support new marks too, like `pytest-parametrize`. You can also use custom marks to enable/disable groups of tests, or to pass data into fixtures."
   ]
  },
  {
   "cell_type": "markdown",
   "metadata": {},
   "source": [
    "## Tests should test the installed version, not the local version\n",
    "\n",
    "Your tests should run against an _installed_ version of your code. Testing against the _local_ version might work with the installed version does not (due to a missing file, changed paths, etc). This is one of the big reasons to use `/src/package` instead of `/package`, as `python -m pytest` will pick up local directories and `pytest` does not."
   ]
  }
 ],
 "metadata": {
  "kernelspec": {
   "display_name": "Python [conda env:level-up-your-python] *",
   "language": "python",
   "name": "conda-env-level-up-your-python-py"
  },
  "language_info": {
   "codemirror_mode": {
    "name": "ipython",
    "version": 3
   },
   "file_extension": ".py",
   "mimetype": "text/x-python",
   "name": "python",
   "nbconvert_exporter": "python",
   "pygments_lexer": "ipython3",
   "version": "3.8.6"
  }
 },
 "nbformat": 4,
 "nbformat_minor": 4
}
