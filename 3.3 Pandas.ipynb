{
 "cells": [
  {
   "cell_type": "markdown",
   "metadata": {},
   "source": [
    "# Pandas: DataFrames for Python\n",
    "\n",
    "Python is a general purpose language. It doesn't have to be better than a specialized language, it just has to have a good enough library - it is better at all the other parts, like dealing with files, CLI/GUI, etc.\n"
   ]
  },
  {
   "cell_type": "markdown",
   "metadata": {},
   "source": [
    "DataFrames (well known from R) are like Excel spreadsheets in Python. (In fact, it can open Excel files). They are for _structured data_. If a NumPy axis has a meaning you want to assign a name to, it's probably structured."
   ]
  },
  {
   "cell_type": "code",
   "execution_count": null,
   "metadata": {},
   "outputs": [],
   "source": [
    "import pandas as pd"
   ]
  },
  {
   "cell_type": "code",
   "execution_count": null,
   "metadata": {},
   "outputs": [],
   "source": [
    "%writefile tmp.csv\n",
    "id,                version, os,    arch\n",
    "cp37-macos_arm64,  3.7,     macos, arm64\n",
    "cp38-macos_arm64,  3.8,     macos, arm64\n",
    "cp39-macos_arm64,  3.9,     macos, arm64\n",
    "cp37-macos_x86_64, 3.7,     macos, x86_64\n",
    "cp38-macos_x86_64, 3.8,     macos, x86_64\n",
    "cp39-macos_x86_64, 3.9,     macos, x86_64"
   ]
  },
  {
   "cell_type": "code",
   "execution_count": null,
   "metadata": {},
   "outputs": [],
   "source": [
    "pd.DataFrame({})"
   ]
  }
 ],
 "metadata": {
  "kernelspec": {
   "display_name": "Python [conda env:level-up-your-python] *",
   "language": "python",
   "name": "conda-env-level-up-your-python-py"
  },
  "language_info": {
   "codemirror_mode": {
    "name": "ipython",
    "version": 3
   },
   "file_extension": ".py",
   "mimetype": "text/x-python",
   "name": "python",
   "nbconvert_exporter": "python",
   "pygments_lexer": "ipython3",
   "version": "3.8.6"
  }
 },
 "nbformat": 4,
 "nbformat_minor": 4
}
