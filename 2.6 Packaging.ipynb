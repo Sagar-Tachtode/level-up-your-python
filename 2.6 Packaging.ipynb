{
 "cells": [
  {
   "cell_type": "markdown",
   "metadata": {},
   "source": [
    "# Packaging and Files"
   ]
  },
  {
   "cell_type": "markdown",
   "metadata": {},
   "source": [
    "One of my favorite subjects, because it's absolutly critical as soon as you:\n",
    "\n",
    "* Work on more than one thing\n",
    "* Share your work with anyone (even if not as a package)\n",
    "* Work in more than one place\n",
    "* Upgrade or change anything on your computer\n",
    "\n",
    "Unfortunatly, packing has a _lot_ of historical cruft, bad practices that have easy solutions today but are still propogated.\n",
    "\n",
    "We will split our focus into two situations, then pull both ideas together."
   ]
  },
  {
   "cell_type": "markdown",
   "metadata": {},
   "source": [
    "## Installing package\n",
    "\n",
    "You will see two _very_ common recommendations:\n",
    "    \n",
    "```bash\n",
    "pip install <package>         # Use only in virtual environment!\n",
    "pip install --user <package>  # Never use\n",
    "```\n",
    "\n",
    "Don't use them unless you know exactly what you are doing! The first one will try to install globally, and if you don't have permission, will install to your user site packages (as of a recent pip update). In global site packages, you can get conflicting verions of libraries, you can't tell what you've installed for what, it's a mess. And user site packages are worse, because all installs of Python on your computer share it, so you might override and break things you didn't intend to.\n",
    "\n",
    "The solution depends on what you are doing:\n",
    "\n",
    "### Safe libraries\n",
    "\n",
    "There are likely a few libraries that you just have to install globally. Go ahead, but be careful (and always use your system package manager instead if you can, like `brew` on macOS or the Windows ones - Linux package managers tend to be too old to use for Python libraries).\n",
    "\n",
    "Ideas for safe libraries: the other libraires you see listed in this lesson! It's likely better than bootstrapping them.\n",
    "\n",
    "### Applicaiton install\n",
    "\n",
    "If you are installing an \"application\", that is, it has a script end-point and you don't expect to import it, use pipx. It will isolate it in a virtual environment, but hide all that for you, and then you'll just have an application you can use with no global/user side effects!\n",
    "\n",
    "```bash\n",
    "pip install pipx  # Easier to install like this\n",
    "pipx install black\n",
    "black myfile.py\n",
    "```\n",
    "\n",
    "Now you have \"black\", but nothing has changed in your global site packages!\n",
    "\n",
    "\n",
    "### Environment tools\n",
    "\n",
    "There are other tools we are about to talk about, like `virtualenv`, `poetry`, `pipenv`, etc. that you could also install this way (either directly or with `pipx`), and are _not too_ likely to interfere or break down. But keep it to a minimum.\n"
   ]
  },
  {
   "cell_type": "markdown",
   "metadata": {},
   "source": [
    "## Environments\n",
    "\n",
    "There are several environment systems available for Python, and they generally come in two categories. The Python Packaging Authority supports the PyPI (Python Packaging Index), and all the systems except on build on this (usually by pip somewhere). The lone exception is Conda, which has a completely seperate set of packages (often but not always with matching names)."
   ]
  },
  {
   "cell_type": "markdown",
   "metadata": {},
   "source": [
    "### Environment specification\n",
    "\n",
    "All systems have an environment specification, something like this:\n",
    "\n",
    "```\n",
    "requests\n",
    "rich >=9.8\n",
    "```\n",
    "\n",
    "This is technically a valid requirements.txt file. If you wanted to use it, you would do:\n",
    "\n",
    "\n",
    "```bash\n",
    "python3 -m venv venv\n",
    ". venv/bin/activate\n",
    "pip install -r requirements.txt`\n",
    "```\n",
    "Use `deactivate` to \"leave\" the virtual environment.\n",
    "\n",
    "These two tools (venv to isolate a virtual environment) and the requirements file let you set up non-interacting places to work for each project, and you can set up again anywhere."
   ]
  },
  {
   "cell_type": "markdown",
   "metadata": {},
   "source": [
    "### Locking an environment\n",
    "\n",
    "But now you want to share your environment with someone else. But let's say `rich` updated and now something doesn't work. You have a working environment (until you update), but your friend does not, theirs installed broken (this just happened to me with `IPython` and `jedi`, by the way). How do you recover a working version without going back to your computer? With a lock file! This would look something like this:\n",
    "\n",
    "```\n",
    "requests ==2.25.1\n",
    "rich ==9.8.0\n",
    "typing-extensions ==3.7.4\n",
    "...\n",
    "```\n",
    "\n",
    "This file lists all installed packages with exact versions, so now you can restore your environment if you need to. However, managing these by hand is not ideal and easy to forget. If you like this, `pipenv`, which was taken over by `PyPA` has a `Pipfile` and a `Pipfile.lock` which do exactly this, and combines the features of a virtual environment and pip. You can look into it off-line, but we are moving on. We'll encounter this idea again."
   ]
  },
  {
   "cell_type": "markdown",
   "metadata": {},
   "source": [
    "### Dev environments or Extras\n",
    "\n",
    "Some environment tools have the idea of a \"dev\" environment, or optional components to the environment that you can ask for. Look for them wherever fine environements are made.\n",
    "\n",
    "When you install a package via pip or any of the (non-locked) methods, you can also ask for \"extras\", though you have to know about them beforehand. For example, `pip install rich[jupyter]` will add some extra requirements for interacting with notebooks. *These add requirements only*, you can't change the package with an extra."
   ]
  },
  {
   "cell_type": "markdown",
   "metadata": {},
   "source": [
    "### Conda environments\n",
    "\n",
    "If you use conda, the environment file is called `environment.yaml`. The one we are using can be seen here:"
   ]
  },
  {
   "cell_type": "markdown",
   "metadata": {},
   "source": [
    "<!-- %load environment.yml -->\n",
    "\n",
    "```yaml\n",
    "name: level-up-your-python\n",
    "channels:\n",
    "  - conda-forge\n",
    "dependencies:\n",
    "  - python =3.8\n",
    "  - pip\n",
    "  - rich >=9.8\n",
    "  - pandas >=1.1\n",
    "  - matplotlib >=3\n",
    "  - jupyterlab >= 3.0\n",
    "  - numba >=0.50.0\n",
    "  - nb_conda_kernels\n",
    "  - numpy >=1.19\n",
    "  - jedi <0.18\n",
    "  - xeus-python\n",
    "  - pip:\n",
    "    - jupyter-book>=0.9.1\n",
    "```"
   ]
  },
  {
   "cell_type": "markdown",
   "metadata": {},
   "source": [
    "## Packages\n",
    "\n",
    "Now, let's change gears and look at packaging. If you want to make your code accessable to someonen else to use via `pip` install, you need to make it a package. In fact, as you'll see at the end of this section, even if you just want to develop an application, it's much better to be working in a package. I won't show you the internals of setting up a setuptools package, but we'll just go over how you work with it and how it is distributed.\n",
    "\n",
    "To install a local package, use:\n",
    "\n",
    "```bash\n",
    "pip install .\n",
    "```\n",
    "\n",
    "This will _copy_ the files into site-packages. If you want to actively develop a module, use this instead (setuptools only, command varies on other tools):\n",
    "\n",
    "```bash\n",
    "pip install -e .\n",
    "```\n",
    "\n",
    "If you want to produce an SDist for distributing the source, use\n",
    "\n",
    "\n",
    "```bash\n",
    "pip install build\n",
    "python -m build --sdist\n",
    "```\n",
    "\n",
    "If you want to produce a wheel for distributing, use\n",
    "\n",
    "```python\n",
    "python -m build --wheel\n",
    "```\n",
    "\n",
    "You'll see old tutorials directly call `python setup.py ...`; if you can possibly avoid doing that, please do! The `setup.py` file is still a good idea for setuptools, but it's not even required there (and doesn't exist for any other packaging software)."
   ]
  },
  {
   "cell_type": "code",
   "execution_count": null,
   "metadata": {},
   "outputs": [],
   "source": []
  }
 ],
 "metadata": {
  "kernelspec": {
   "display_name": "Python [conda env:level-up-your-python] *",
   "language": "python",
   "name": "conda-env-level-up-your-python-py"
  },
  "language_info": {
   "codemirror_mode": {
    "name": "ipython",
    "version": 3
   },
   "file_extension": ".py",
   "mimetype": "text/x-python",
   "name": "python",
   "nbconvert_exporter": "python",
   "pygments_lexer": "ipython3",
   "version": "3.8.6"
  },
  "toc-autonumbering": false,
  "toc-showmarkdowntxt": false,
  "toc-showtags": false
 },
 "nbformat": 4,
 "nbformat_minor": 4
}
