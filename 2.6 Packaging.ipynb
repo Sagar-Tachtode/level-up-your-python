{
 "cells": [
  {
   "cell_type": "markdown",
   "metadata": {},
   "source": [
    "# Packaging and Files"
   ]
  },
  {
   "cell_type": "markdown",
   "metadata": {},
   "source": [
    "One of my favorite subjects, because it's absolutely critical as soon as you:\n",
    "\n",
    "* Work on more than one thing\n",
    "* Share your work with anyone (even if not as a package)\n",
    "* Work in more than one place\n",
    "* Upgrade or change anything on your computer\n",
    "\n",
    "Unfortunately, packing has a _lot_ of historical cruft, bad practices that have easy solutions today but are still propagated.\n",
    "\n",
    "We will split our focus into two situations, then pull both ideas together."
   ]
  },
  {
   "cell_type": "markdown",
   "metadata": {},
   "source": [
    "## Installing a package\n",
    "\n",
    "You will see two _very_ common recommendations:\n",
    "    \n",
    "```bash\n",
    "pip install <package>         # Use only in virtual environment!\n",
    "pip install --user <package>  # Never use\n",
    "```\n",
    "\n",
    "Don't use them unless you know exactly what you are doing! The first one will try to install globally, and if you don't have permission, will install to your user site packages (as of a recent pip update). In global site packages, you can get conflicting versions of libraries, you can't tell what you've installed for what, it's a mess. And user site packages are worse, because all installs of Python on your computer share it, so you might override and break things you didn't intend to.\n",
    "\n",
    "The solution depends on what you are doing:\n",
    "\n",
    "### Safe libraries\n",
    "\n",
    "There are likely a few libraries that you just have to install globally. Go ahead, but be careful (and always use your system package manager instead if you can, like [`brew` on macOS](https://brew.sh) or the Windows ones - Linux package managers tend to be too old to use for Python libraries).\n",
    "\n",
    "Ideas for safe libraries: the other libraries you see listed in this lesson! It's likely better than bootstrapping them.\n",
    "\n",
    "### Application install\n",
    "\n",
    "If you are installing an \"application\", that is, it has a script end-point and you don't expect to import it, use [pipx](https://pipxproject.github.io/pipx/). It will isolate it in a virtual environment, but hide all that for you, and then you'll just have an application you can use with no global/user side effects!\n",
    "\n",
    "```bash\n",
    "pip install pipx  # Easier to install like this\n",
    "pipx install black\n",
    "black myfile.py\n",
    "```\n",
    "\n",
    "Now you have \"black\", but nothing has changed in your global site packages!\n",
    "\n",
    "\n",
    "### Environment tools\n",
    "\n",
    "There are other tools we are about to talk about, like `virtualenv`, `poetry`, `pipenv`, etc. that you could also install this way (either directly or with `pipx`), and are _not too_ likely to interfere or break down. But keep it to a minimum.\n"
   ]
  },
  {
   "cell_type": "markdown",
   "metadata": {},
   "source": [
    "## Environments\n",
    "\n",
    "There are several environment systems available for Python, and they generally come in two categories. The Python Packaging Authority supports the PyPI (Python Packaging Index), and all the systems except on build on this (usually by pip somewhere). The lone exception is Conda, which has a completely separate set of packages (often but not always with matching names)."
   ]
  },
  {
   "cell_type": "markdown",
   "metadata": {},
   "source": [
    "### Environment specification\n",
    "\n",
    "All systems have an environment specification, something like this:\n",
    "\n",
    "```\n",
    "requests\n",
    "rich >=9.8\n",
    "```\n",
    "\n",
    "This is technically a valid `requirements.txt` file. If you wanted to use it, you would do:\n",
    "\n",
    "\n",
    "```bash\n",
    "python3 -m venv venv\n",
    ". venv/bin/activate\n",
    "pip install -r requirements.txt`\n",
    "```\n",
    "Use `deactivate` to \"leave\" the virtual environment.\n",
    "\n",
    "These two tools (venv to isolate a virtual environment) and the requirements file let you set up non-interacting places to work for each project, and you can set up again anywhere."
   ]
  },
  {
   "cell_type": "markdown",
   "metadata": {},
   "source": [
    "### Locking an environment\n",
    "\n",
    "But now you want to share your environment with someone else. But let's say `rich` updated and now something doesn't work. You have a working environment (until you update), but your friend does not, theirs installed broken (this just happened to me with `IPython` and `jedi`, by the way). How do you recover a working version without going back to your computer? With a lock file! This would look something like this:\n",
    "\n",
    "```\n",
    "requests ==2.25.1\n",
    "rich ==9.8.0\n",
    "typing-extensions ==3.7.4\n",
    "...\n",
    "```\n",
    "\n",
    "This file lists all installed packages with exact versions, so now you can restore your environment if you need to. However, managing these by hand is not ideal and easy to forget. If you like this, `pipenv`, which was taken over by `PyPA` has a `Pipfile` and a `Pipfile.lock` which do exactly this, and combines the features of a virtual environment and pip. You can look into it off-line, but we are moving on. We'll encounter this idea again."
   ]
  },
  {
   "cell_type": "markdown",
   "metadata": {},
   "source": [
    "### Dev environments or Extras\n",
    "\n",
    "Some environment tools have the idea of a \"dev\" environment, or optional components to the environment that you can ask for. Look for them wherever fine environments are made.\n",
    "\n",
    "When you install a package via pip or any of the (non-locked) methods, you can also ask for \"extras\", though you have to know about them beforehand. For example, `pip install rich[jupyter]` will add some extra requirements for interacting with notebooks. *These add requirements only*, you can't change the package with an extra."
   ]
  },
  {
   "cell_type": "markdown",
   "metadata": {},
   "source": [
    "### Conda environments\n",
    "\n",
    "If you use Conda, the environment file is called `environment.yaml`. The one we are using can be seen here:"
   ]
  },
  {
   "cell_type": "markdown",
   "metadata": {},
   "source": [
    "<!-- %load environment.yml -->\n",
    "\n",
    "```yaml\n",
    "name: level-up-your-python\n",
    "channels:\n",
    "  - conda-forge\n",
    "dependencies:\n",
    "  - python =3.8\n",
    "  - pip\n",
    "  - rich >=9.8\n",
    "  - pandas >=1.1\n",
    "  - matplotlib >=3\n",
    "  - jupyterlab >= 3.0\n",
    "  - numba >=0.50.0\n",
    "  - nb_conda_kernels\n",
    "  - numpy >=1.19\n",
    "  - jedi <0.18\n",
    "  - xeus-python\n",
    "  - pip:\n",
    "    - jupyter-book>=0.9.1\n",
    "```"
   ]
  },
  {
   "cell_type": "markdown",
   "metadata": {},
   "source": [
    "## Packages\n",
    "\n",
    "Now, let's change gears and look at packaging. If you want to make your code accessible to someone else to use via `pip` install, you need to make it a package. In fact, as you'll see at the end of this section, even if you just want to develop an application, it's much better to be working in a package. I won't show you the internals of setting up a setuptools package, but we'll just go over how you work with it and how it is distributed.\n",
    "\n",
    "To install a local package, use:\n",
    "\n",
    "```bash\n",
    "pip install .\n",
    "```\n",
    "\n",
    "This will _copy_ the files into site-packages. If you want to actively develop a module, use this instead (setuptools only, command varies on other tools):\n",
    "\n",
    "```bash\n",
    "pip install -e .\n",
    "```\n",
    "\n",
    "If you want to produce an SDist for distributing the source, use\n",
    "\n",
    "\n",
    "```bash\n",
    "pip install build\n",
    "python -m build --sdist\n",
    "```\n",
    "\n",
    "If you want to produce a wheel for distributing, use\n",
    "\n",
    "```python\n",
    "python -m build --wheel\n",
    "```\n",
    "\n",
    "You'll see old tutorials directly call `python setup.py ...`; if you can possibly avoid doing that, please do! The `setup.py` file is still a good idea for setuptools, but it's not even required there (and doesn't exist for any other packaging software)."
   ]
  },
  {
   "cell_type": "markdown",
   "metadata": {},
   "source": [
    "## Wheel: fast and simple\n",
    "\n",
    "A wheel is just a normal zipped file with the extension `.whl`. It contains folders that get copied to specific locations, and a metadata folder.\n",
    "\n",
    "It _does not_ contain `setup.py`/`setup.cfg`/`pyproject.toml`.\n",
    "\n",
    "\n",
    "Why use wheels?\n",
    "\n",
    "* Secure installs - arbitrary code does not run\n",
    "* Fast installs - files are just copied inplace\n",
    "* Reliable - does not depend on pretty much anything being on user's machine, including setuptools!\n",
    "* Faster first imports - pip makes .pyc files when it installs\n",
    "* Can be tagged for Python version, OS, and/or architecture (supports binaries!).\n",
    "\n",
    "See <https://pythonwheels.com>"
   ]
  },
  {
   "cell_type": "markdown",
   "metadata": {},
   "source": [
    "## SDist: Source distribution\n",
    "\n",
    "This is a `.tar.gz` file holding the files needed to make a wheel. It is often a subset of the files in the GitHub repo, though sometimes it contains generated files, like `version.py` or maybe Cython/SWIG generated source files. If there is no matching wheel (only for projects with binary components, in general), then pip gets the SDist and builds/installs manually."
   ]
  },
  {
   "cell_type": "markdown",
   "metadata": {},
   "source": [
    "## Poetry: A breath of fresh air\n",
    "\n",
    "\n",
    "Let's look at an all-in-one solution: Poetry. It is a bit young, and somewhat opinionated (like all tools replacing a broken standard, it wants to stand out). There are some caveats:\n",
    "\n",
    "* Should be pure python (no compiled extensions in your code)\n",
    "* Should be PyPI based (no Conda integration AFAIK)\n",
    "* Updates to `packaging` take a bit longer to get in (due to PyPA syncing releases with pip and not poetry)"
   ]
  },
  {
   "cell_type": "markdown",
   "metadata": {},
   "source": [
    "### Step 1: make a new project"
   ]
  },
  {
   "cell_type": "code",
   "execution_count": null,
   "metadata": {},
   "outputs": [],
   "source": [
    "!poetry new tmp_project"
   ]
  },
  {
   "cell_type": "code",
   "execution_count": null,
   "metadata": {},
   "outputs": [],
   "source": [
    "ls tmp_project/"
   ]
  },
  {
   "cell_type": "code",
   "execution_count": null,
   "metadata": {},
   "outputs": [],
   "source": [
    "cat tmp_project/pyproject.toml"
   ]
  },
  {
   "cell_type": "markdown",
   "metadata": {},
   "source": [
    "The following commands I'll demo in a shell, if I have time.\n",
    "\n",
    "```bash\n",
    "# Create a virtual environment, start the poetry.lock file\n",
    "poetry install\n",
    "\n",
    "# \"Enter\" the environment\n",
    "poetry shell\n",
    "\n",
    "# Run without entering the environment\n",
    "poetry run ...\n",
    "\n",
    "# Add a new package (--dev to make it development only)\n",
    "# Modifies your pyproject.toml\n",
    "poetry add rich\n",
    "\n",
    "# Update the environment and lock files\n",
    "poetry update\n",
    "\n",
    "# You can use python -m build, or you can use poetry build\n",
    "# You can publish to PyPI with poetry publish\n",
    "# And that's package + environment management!\n",
    "```"
   ]
  },
  {
   "cell_type": "markdown",
   "metadata": {},
   "source": [
    "When you publish your package, it makes completely normal wheels, so `pip install` works exactly as expected.\n",
    "\n",
    "New developers can start developing right away by getting your repository and running `poetry install`. They _even get the dev dependencies_ by default! (which was a brilliant choice, IMO). They start with the lock file if it exists, so they always get what you have, and anyone can run `poetry update` if needed."
   ]
  },
  {
   "cell_type": "markdown",
   "metadata": {},
   "source": [
    "## Setuptools: Classic, powerful, verbose\n",
    "\n",
    "The most powerful (and originally, forced by pip) tool is setuptools. This is a collection of hacks built on top of distutils, which is a collections of hacks to build packages (which was the standard library tool that is now deprecated and may be removed in Python 3.12). There are some awful examples around on using it, so look at <https://scikit-hep.org/developer> for a proper example.\n",
    "\n",
    "The short version:\n",
    "\n",
    "* Use declarative `setup.cfg` for everything you can\n",
    "     - Use file: to read files\n",
    "     - Always use find: for packages - include or exclude if you need to\n",
    "     - Always set `python_requires`!\n",
    "* Logic goes in `setup.py`; often it's just `from setuptools import setup; setup()`\n",
    "     - Binary extensions go here too\n",
    "* Always include a `pyproject.toml`, often it's just 5 or so lines\n",
    "* Check your `MANIFEST.in` to make sure it's not missing things going into the SDist"
   ]
  }
 ],
 "metadata": {
  "kernelspec": {
   "display_name": "conda-env-level-up-your-python-py",
   "language": "python",
   "name": "conda-env-level-up-your-python-py"
  },
  "language_info": {
   "codemirror_mode": {
    "name": "ipython",
    "version": 3
   },
   "file_extension": ".py",
   "mimetype": "text/x-python",
   "name": "python",
   "nbconvert_exporter": "python",
   "pygments_lexer": "ipython3",
   "version": "3.8.6"
  },
  "toc-autonumbering": false,
  "toc-showmarkdowntxt": false,
  "toc-showtags": false
 },
 "nbformat": 4,
 "nbformat_minor": 4
}
