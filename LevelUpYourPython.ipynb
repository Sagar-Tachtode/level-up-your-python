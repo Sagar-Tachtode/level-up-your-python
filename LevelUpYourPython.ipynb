{
 "cells": [
  {
   "cell_type": "markdown",
   "metadata": {},
   "source": [
    "# Level UP your Python\n",
    "\n",
    "### Henry Schreiner"
   ]
  },
  {
   "cell_type": "code",
   "execution_count": null,
   "metadata": {},
   "outputs": [],
   "source": [
    "%config InteractiveShell.ast_node_interactivity=\"last_expr_or_assign\"\n",
    "\n",
    "# Could enable pretty tracebacks (ONLY DO IN APPLICATION, NOT LIBRARY):\n",
    "# import rich.traceback\n",
    "# rich.traceback.install(show_locals=True)\n",
    "#\n",
    "# Or pretty-printing by default\n",
    "# rich.pretty.install()"
   ]
  },
  {
   "cell_type": "markdown",
   "metadata": {},
   "source": [
    "# Intro\n",
    "\n",
    "### Expected Knoledge\n",
    "\n",
    "You should already know:\n",
    "\n",
    "* Basic Python syntax\n",
    "* Functions\n",
    "* Basic classes (will cover quickly)\n",
    "* Basic NumPy (will mention)\n",
    "* Git - _CRITICAL FOR ANY SOFTWARE WORK!_\n",
    "\n",
    "And we will be using notebooks in JupyterLab, but won't be talking about them much, except for one disclaimer: They are for teaching, testing, prototyping, and final analysis driving - they are _NOT_ a place to store significant amounts of code! Refactor into a file once you have developed something!"
   ]
  },
  {
   "cell_type": "markdown",
   "metadata": {},
   "source": [
    "### What can you expect?\n",
    "\n",
    "* I don't know what you know\n",
    "* We don't have time to study any topic in depth.\n",
    "\n",
    "So, we will move _fast_, and cover a _lot_.\n",
    "\n",
    "You are not expected to able to master everything you see.\n",
    "\n",
    "### Instead, you are expected to:\n",
    "\n",
    "1. Know what is possible, so you know to look for it\n",
    "2. Get pointers on where to look (lots of links!)\n",
    "3. Refer back to this material later."
   ]
  },
  {
   "cell_type": "markdown",
   "metadata": {},
   "source": [
    "## About the author\n",
    "\n",
    "[![Henryiii's github stats](https://github-readme-stats.vercel.app/api?username=henryiii)](https://github.com/anuraghazra/github-readme-stats)\n",
    "\n",
    "https://iscinumpy.gitlab.io\n",
    "\n",
    "Scikit-HEP admin, member of IRIS-HEP.\n",
    "\n",
    "### Projects\n",
    "\n",
    "cibuildwheel • pybind11 • boost-histogram • Hist • Vector • CLI11 • Plumbum • GooFit • Particle • DecayLanguage • Conda-Forge ROOT • POVM\n",
    "\n",
    "### Intrests:\n",
    "\n",
    "Packaging and building • Bindings • Building a HEP analysis toolchain in Python, JITable"
   ]
  },
  {
   "cell_type": "markdown",
   "metadata": {},
   "source": [
    "## Theory: New features in programming\n",
    "\n",
    "Programming is all about _orginization_. This is not always obvious, and has some odd consequences. Let's look at one: **new features remove functionality from the user**.\n",
    "\n",
    "Don't believe me? Pick one. Let's go with an old, simple one you should already know: `goto` vs. loops (`for`/`while`). (This is my favorite example, even though Python thankfully came along late enough to not even have `goto` in the first place, except as an April fools joke.)\n",
    "\n",
    "\n",
    "You have total power with goto! Jump from anywhere, too anywhere! You can recreate all loops with it, and more! So why are loops the newer, better feature?\n",
    "\n",
    "####  goto ([partially hypothetical](https://github.com/snoack/python-goto) in Python)\n",
    "```python\n",
    "i = 0\n",
    "label .start\n",
    "print(f\"Hi {i}\")\n",
    "i + 1\n",
    "if i <= 10:\n",
    "    goto .start\n",
    "```\n",
    "#### VS for loop:\n",
    "    "
   ]
  },
  {
   "cell_type": "code",
   "execution_count": null,
   "metadata": {},
   "outputs": [],
   "source": [
    "for i in range(10):\n",
    "    print(f\"Hi {i}\")"
   ]
  },
  {
   "cell_type": "markdown",
   "metadata": {},
   "source": [
    "A programmer has to spend time to recognise what is happing in the first example - in the second example, even a fairly new Python programmer will immediatly say \"that prints 0 to 9\". The second example lets you build more complex programs, because you are working at a 'higher level', humans tend to do better which high level concepts (while computers work up from low level)."
   ]
  },
  {
   "cell_type": "markdown",
   "metadata": {},
   "source": [
    "# Python Object Model"
   ]
  },
  {
   "cell_type": "markdown",
   "metadata": {},
   "source": [
    "## Everything in Python is an object!\n",
    "\n",
    "> Okay, technically a `PyObject*` in CPython - we'll focus on CPython most of the time today.\n",
    "\n",
    "An object is an \"instance\" of a \"type\", or a \"class\", which describes what that sort of object does.\n",
    "\n",
    "> Types and basic objects have some optimizations in CPython, for speed and also to keep the language from being infinitely recursive - but they are still PyObject*'s.\n",
    ">\n",
    "> Also, \"built-in\" classes are a little special."
   ]
  },
  {
   "cell_type": "code",
   "execution_count": null,
   "metadata": {},
   "outputs": [],
   "source": [
    "v = 4"
   ]
  },
  {
   "cell_type": "code",
   "execution_count": null,
   "metadata": {},
   "outputs": [],
   "source": [
    "v.bit_length()"
   ]
  },
  {
   "cell_type": "code",
   "execution_count": null,
   "metadata": {},
   "outputs": [],
   "source": [
    "def f(x):\n",
    "    return x**2"
   ]
  },
  {
   "cell_type": "code",
   "execution_count": null,
   "metadata": {},
   "outputs": [],
   "source": [
    "# f, v = v, f\n",
    "# What is the v now? f? How about the name?\n",
    "# Note to instructor: restore f for the next part!"
   ]
  },
  {
   "cell_type": "markdown",
   "metadata": {},
   "source": [
    "## Inspecting\n",
    "\n",
    "You can inspect objects. There are lots of ways.\n",
    "\n",
    "* In a juptyer notebook, use `object.<tab>` to bring up completions, shift tab for help.\n",
    "* You can use dir(object) to see all attribututes (more or less)\n",
    "* You can use help(object) or object? (IPython only) to see help\n",
    "* You can `import inspect` and use the tools there\n",
    "* You can install the rich library and use `rich.inspect()`"
   ]
  },
  {
   "cell_type": "code",
   "execution_count": null,
   "metadata": {},
   "outputs": [],
   "source": [
    "# help(v)\n",
    "# dir(v)\n",
    "import inspect\n",
    "print(inspect.getsourcefile(f))\n",
    "print(inspect.getsource(f))\n",
    "# WARNING! THIS DOES NOT ALWAYS WORK!"
   ]
  },
  {
   "cell_type": "markdown",
   "metadata": {},
   "source": [
    "#### WARNING: You cannot *always* see the source of a function, so this is a user trick, not one to use in a library!\n",
    "\n",
    "Python does a three stage procedure when interpreting. It convers source to bytecode (pyc files), then runs the bytecode in the interpreter. When loading a file that has been run before (or came from a wheel, more on that later), it only loads the bytecode if the source hasn't changed - the source is not reparsed. So inspect works by looking up the original file location. _But you can delete the original file and run from bytecode only!_. Don't do that, but you can. Also, you can run from a zip file, and the orignal file might not be openable. And, finally, when running live in a REPL, there may not be a source (it works in IPython for us, though).\n"
   ]
  },
  {
   "cell_type": "code",
   "execution_count": null,
   "metadata": {},
   "outputs": [],
   "source": [
    "import rich\n",
    "rich.inspect(f)"
   ]
  },
  {
   "cell_type": "code",
   "execution_count": null,
   "metadata": {},
   "outputs": [],
   "source": [
    "rich.inspect(3)"
   ]
  },
  {
   "cell_type": "markdown",
   "metadata": {},
   "source": [
    "## Mutablity\n",
    "\n",
    "Many built-in objects are immutable, so it can hide the fact that Python does not have the concept of \"pass by value\"; the labels you see really are all pointing to PyObject*'s that are being managed by Python's garbage colllector.\n",
    "\n",
    "If you write `x = y`, then x and y refer to the same object. Always. This can't be overriden. However, it's hard to see that if you can't mutate the value, so there's no \"side effect\" to this. Side effects only happen for mutable objects."
   ]
  },
  {
   "cell_type": "code",
   "execution_count": null,
   "metadata": {},
   "outputs": [],
   "source": [
    "x = 3\n",
    "y = x\n",
    "x += 1\n",
    "print(\"What is {y}?\")"
   ]
  },
  {
   "cell_type": "markdown",
   "metadata": {},
   "source": [
    "Now, let's try a mutable object. Lists, sets, and dicts are the most notable mutable objects in `builtins`."
   ]
  },
  {
   "cell_type": "code",
   "execution_count": null,
   "metadata": {},
   "outputs": [],
   "source": [
    "x = [3]\n",
    "y = x\n",
    "x[0] += 1\n",
    "print(\"What is {y = }?\")"
   ]
  },
  {
   "cell_type": "markdown",
   "metadata": {},
   "source": [
    "Why?\n",
    "\n",
    "The problem was that when the object was imuatable, the inplace operator `+=` actually behaved like `x = x + 1`, which is a new object. When it was a mutable object (a list), then it was able to change it in-place."
   ]
  },
  {
   "cell_type": "markdown",
   "metadata": {},
   "source": [
    "#### Advanced aside: Why did this work?\n",
    "\n",
    "Quick aside for advanced Pythonistas, this is tricky. `x[0]` returns an int. So why is this any different than before? Let's explore, using mock:"
   ]
  },
  {
   "cell_type": "code",
   "execution_count": null,
   "metadata": {},
   "outputs": [],
   "source": [
    "from unittest.mock import MagicMock\n",
    "\n",
    "ListProxy = MagicMock(\"ListProxy\")\n",
    "y = ListProxy()\n",
    "y[0] += 1\n",
    "rich.print(y.mock_calls)"
   ]
  },
  {
   "cell_type": "markdown",
   "metadata": {},
   "source": [
    "You can see that this has special support for this syntax, it pulls out the item inside, and sets it, then stores it. There are other special syntax treatments in Python as well, all designed to make the language more friendly and powerful:\n",
    "\n"
   ]
  },
  {
   "cell_type": "code",
   "execution_count": null,
   "metadata": {},
   "outputs": [],
   "source": [
    "1 < 2 < 3"
   ]
  },
  {
   "cell_type": "code",
   "execution_count": null,
   "metadata": {},
   "outputs": [],
   "source": [
    "print(not 3 in {1, 2, 3})\n",
    "print(3 not in {1, 2, 3})"
   ]
  },
  {
   "cell_type": "markdown",
   "metadata": {},
   "source": [
    "Can we glean anything from the original example, though? Yes, assignment is special. There are only three forms of normal assignment:\n",
    "\n",
    "```python\n",
    "x = y = 1\n",
    "x[y] = 2\n",
    "x.y = 3\n",
    "```\n",
    "\n",
    "That's it. These are _not_ valid assignments:\n",
    "\n",
    "```python\n",
    "x(y) = 1    # There is no assignment for __call__\n",
    "x + y = 2   # Arbitrary expressions are not allowed\n",
    "(x = 2) + 2 # Can't be nested\n",
    "# So on.\n",
    "```\n",
    "\n",
    "> This was limiting, so Python 3.8 added a nestable assignment, `:=` (walrus operator), though it was somewhat controversial. It does not work anywhere that normal `=` works, to avoid confusion.\n",
    "\n",
    "Inplace assignment operators follow the same rules, so they are \"special\", and not allowed anywhere."
   ]
  },
  {
   "cell_type": "markdown",
   "metadata": {},
   "source": [
    "## Scope\n",
    "\n",
    "Python has scope, but not in very many places. Functions and class definitions create scope, and modules have scope. (Generator expressions now have scope too). That's about it. So you can write this:"
   ]
  },
  {
   "cell_type": "code",
   "execution_count": null,
   "metadata": {},
   "outputs": [],
   "source": [
    "if True:\n",
    "    x = 3\n",
    "print(x)"
   ]
  },
  {
   "cell_type": "markdown",
   "metadata": {},
   "source": [
    "If `if` had scope, then x would not be accessable outside the if. This is simple and useful, but you have to be careful to stay clean and tidy. For example, if that `if` was `False`, this would suddenly break."
   ]
  },
  {
   "cell_type": "markdown",
   "metadata": {},
   "source": [
    "Because it shows up in so few places, and is so close to automatic, in can bite you once in a while if you don't keep it in mind:"
   ]
  },
  {
   "cell_type": "code",
   "execution_count": null,
   "metadata": {},
   "outputs": [],
   "source": [
    "x = 1\n",
    "def f():\n",
    "    print(x)\n",
    "    \n",
    "f()\n",
    "print(x)"
   ]
  },
  {
   "cell_type": "markdown",
   "metadata": {},
   "source": [
    "But we will try an assignment:"
   ]
  },
  {
   "cell_type": "code",
   "execution_count": null,
   "metadata": {},
   "outputs": [],
   "source": [
    "x = 1\n",
    "def f():\n",
    "    x = 2\n",
    "    print(x)\n",
    "    \n",
    "f()\n",
    "print(x)"
   ]
  },
  {
   "cell_type": "markdown",
   "metadata": {},
   "source": [
    "So x in the function is not the same x out of the function now! (Try printing before assigning to it, or try changing it inplace. Even better, what happens if it is mutable?)"
   ]
  },
  {
   "cell_type": "markdown",
   "metadata": {},
   "source": [
    "If this is really what you want, you can use `nonlocal` to access a variable one-scope-up, or `global` to declare a variable with global scope."
   ]
  },
  {
   "cell_type": "markdown",
   "metadata": {},
   "source": [
    "## Memory and the Garbage Collector\n",
    "\n",
    "Python is a garbage collected language. All Python objects have a refcount, which tells the garbage collector how many \"labels\" or how many ways you can access that object. When you can't get to the object anymore, the garbage collector _has the right to_ remove the object. It _usually_, depending on settings, runs rougly once per line, but it doesn't have to.\n",
    "\n",
    "As a consequence, _never_ depend on an object being deleted to perform some action at some time. More on that later, when we cover context managers.\n",
    "\n",
    "Let's look at it:"
   ]
  },
  {
   "cell_type": "markdown",
   "metadata": {},
   "source": [
    "## Importing"
   ]
  },
  {
   "cell_type": "markdown",
   "metadata": {},
   "source": [
    "Objects are _very_ powerful, and you can harness this power for your own designs!"
   ]
  },
  {
   "cell_type": "markdown",
   "metadata": {},
   "source": [
    "# Object Oriented Programming\n",
    "\n",
    "## Writing a class\n",
    "\n",
    "Writing a class should be second nature, and very natural to you - just as natural as writing a function!"
   ]
  },
  {
   "cell_type": "code",
   "execution_count": null,
   "metadata": {},
   "outputs": [],
   "source": [
    "def f(x):\n",
    "    return x**2\n",
    "\n",
    "print(f\"{f(3) = }\")"
   ]
  },
  {
   "cell_type": "code",
   "execution_count": null,
   "metadata": {},
   "outputs": [],
   "source": [
    "class F:\n",
    "    def __call__(self, x):\n",
    "        return x**2\n",
    "    \n",
    "f = F()\n",
    "print(f\"{f(3) = }\")"
   ]
  },
  {
   "cell_type": "markdown",
   "metadata": {},
   "source": [
    "\n",
    "# Errors and catching them\n",
    "# Generators (Iterators)\n",
    "# Dectorators\n",
    "# Context Managers\n",
    "# Static Type Hinting\n",
    "# Packaging and Files\n",
    "\n",
    "# PyTest: Unit Testing\n",
    "# NumPy: You should know this one\n",
    "# Pandas: DataFrames for Python\n",
    "# Numba: JIT for Speed!\n",
    "# Pybind11: Use C++ libraries\n",
    "# Code Quality and CI"
   ]
  },
  {
   "cell_type": "code",
   "execution_count": null,
   "metadata": {},
   "outputs": [],
   "source": []
  }
 ],
 "metadata": {
  "kernelspec": {
   "display_name": "scikit-hep-tutorials",
   "language": "python",
   "name": "scikit-hep-tutorials"
  },
  "language_info": {
   "codemirror_mode": {
    "name": "ipython",
    "version": 3
   },
   "file_extension": ".py",
   "mimetype": "text/x-python",
   "name": "python",
   "nbconvert_exporter": "python",
   "pygments_lexer": "ipython3",
   "version": "3.8.3"
  },
  "toc-autonumbering": false,
  "toc-showmarkdowntxt": false,
  "toc-showtags": false
 },
 "nbformat": 4,
 "nbformat_minor": 4
}
