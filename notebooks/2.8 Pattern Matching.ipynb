{
 "cells": [
  {
   "cell_type": "markdown",
   "id": "33bb3ca8-4e38-4193-ae50-da454f90e2a5",
   "metadata": {},
   "source": [
    "# Structural Pattern Matching (Python 3.10+)\n",
    "\n",
    "This was a major new feature in Python 3.10. It looks a lot like a switch statement from C, but it's a lot more powerful. Many other modern languages have this too, like Ruby. If you can write Python 3.10 only things, then this can simplify code that would have had lots of `elif`'s and `isinstance` checks."
   ]
  },
  {
   "cell_type": "markdown",
   "id": "f99103ad-dbea-47a7-a30a-d6150f23adec",
   "metadata": {},
   "source": [
    "## Exact matches"
   ]
  },
  {
   "cell_type": "markdown",
   "id": "46a598b4-926e-460b-86ab-ae1120b0d7bf",
   "metadata": {},
   "source": [
    "Let's look look at a simple match statement that looks just like a classic switch statement in C languages:"
   ]
  },
  {
   "cell_type": "code",
   "execution_count": null,
   "id": "74987f9c-24b2-4362-96ab-f59c3c712957",
   "metadata": {},
   "outputs": [],
   "source": [
    "item = 2\n",
    "\n",
    "match item:\n",
    "    case 1:\n",
    "        print(\"One\")\n",
    "    case 2:\n",
    "        print(\"Two\")"
   ]
  },
  {
   "cell_type": "markdown",
   "id": "76b75a0e-ea70-4045-9771-7893276c9092",
   "metadata": {},
   "source": [
    "The thing you are matching against must not be a plain variable name (you'll see why in a moment). So this is basically a switch statement from C, without fallthrough. The first match is chosen, and if nothing matches, you simply continue on. (If you want to fail, there is a catch-all form you'll see later)."
   ]
  },
  {
   "cell_type": "markdown",
   "id": "6529769a-26e8-4d3f-bb39-c4c00d304d25",
   "metadata": {},
   "source": [
    "## Tuple unpacking"
   ]
  },
  {
   "cell_type": "markdown",
   "id": "72b50d88-7b38-4db5-87ad-7c4d7d8ca0cf",
   "metadata": {},
   "source": [
    "But this is just the surface. Let's start to expand this to match *structure* by looking at a place where Python already has pattern matching: assignments. This works, and has for many years (in fact, Python 2 even supported it inside function definitions):"
   ]
  },
  {
   "cell_type": "code",
   "execution_count": null,
   "id": "701c7505-bf3f-435f-bc2a-32e9617f5f85",
   "metadata": {},
   "outputs": [],
   "source": [
    "x, y = (1, 2)"
   ]
  },
  {
   "cell_type": "code",
   "execution_count": null,
   "id": "861bb1b6-1c3b-4ac1-9a71-9dab6d3da904",
   "metadata": {},
   "outputs": [],
   "source": [
    "a, (b, c) = (3, (4, 5))"
   ]
  },
  {
   "cell_type": "markdown",
   "id": "6a012c87-4fd0-4dab-8023-0f980be4fd26",
   "metadata": {},
   "source": [
    "This is the basis for pattern matching - it's expanded to include dicts and classes, but it is much like this. Here's what it looks like:"
   ]
  },
  {
   "cell_type": "code",
   "execution_count": null,
   "id": "fd602c34-aa09-4bd6-87b5-77950e4612ef",
   "metadata": {},
   "outputs": [],
   "source": [
    "item = (1, 2)\n",
    "\n",
    "match item:\n",
    "    case (x, y, z):\n",
    "        print(f\"{x} {y} {z}\")\n",
    "    case (x, y):\n",
    "        print(f\"{x} {y}\")\n",
    "    case (x,):\n",
    "        print(f\"{x}\")"
   ]
  },
  {
   "cell_type": "markdown",
   "id": "8f56c5e7-38e2-4185-909a-300a2637955c",
   "metadata": {},
   "source": [
    "Notice that simple variable names get _assigned_, just like on the left side of the equals in the previous examples.\n",
    "\n",
    "We can combine the two things we have seen so far, too:"
   ]
  },
  {
   "cell_type": "code",
   "execution_count": null,
   "id": "1e1e5cb3-badb-4464-9201-e283b905afa0",
   "metadata": {},
   "outputs": [],
   "source": [
    "item = (3, (4, 5))\n",
    "\n",
    "match item:\n",
    "    case (3, (x, 5)):\n",
    "        print(x)"
   ]
  },
  {
   "cell_type": "markdown",
   "id": "a652766d-e2fb-42a9-a911-991d2e486a2b",
   "metadata": {},
   "source": [
    "Now this tries to \"match\" *structurally* with each case - when one is allowed, it gets unpacked and you can use those values (you still can use the original value, too). If no cases match, you simply continue on.\n",
    "\n",
    "> A tiny detail - since this is trying to match each one, top to bottom, it's not using iteration, but rather getitem access. So an generic iterator will not work here, like in normal unpacking. You'd have to have a restartable iterator anyway, so it's not a big deal, but might be useful to know. Also, strings are _not_ included, even though they have a getitem, as that would be a large source of bugs - `(x, y)` does not match a length 2 string."
   ]
  },
  {
   "cell_type": "markdown",
   "id": "4290c5d3-6738-4293-b1da-bc80eedd5ae7",
   "metadata": {},
   "source": [
    "A single `*` argument is supported, too, just like normal unpacking."
   ]
  },
  {
   "cell_type": "code",
   "execution_count": null,
   "id": "62918a1c-655e-450a-acd9-1025810d4fba",
   "metadata": {},
   "outputs": [],
   "source": [
    "values = [1, 2, 3, 4]\n",
    "match values:\n",
    "    case (a, *b):\n",
    "        print(a, b)"
   ]
  },
  {
   "cell_type": "markdown",
   "id": "0c9d2cca-af90-46e6-b7fd-9d715683fa67",
   "metadata": {},
   "source": [
    "## Other forms of unpacking\n",
    "\n",
    "You can unpack several other things: dicts, classes, and a single value - which must always come last, since it matches everything. All of these can be recursively nested, as well."
   ]
  },
  {
   "cell_type": "code",
   "execution_count": null,
   "id": "0ba9b4f3-4d7f-491f-865a-bc8053ddbce9",
   "metadata": {},
   "outputs": [],
   "source": [
    "item = {\"one\": \"two\"}\n",
    "\n",
    "match item:\n",
    "    case {\"one\": x}:\n",
    "        print(f\"Got {x = }!\")"
   ]
  },
  {
   "cell_type": "markdown",
   "id": "2859ae97-9f33-469f-b775-02ddd9fda301",
   "metadata": {},
   "source": [
    "There are a few rules on this being an actual mapping. It is a non-exhaustive match - if there are other key/value pairs, you can get them with `**other`, but you don't have to add this to make it ignore extra values; it always matches if the key/value pairs are there. You also need to specify the key."
   ]
  },
  {
   "cell_type": "markdown",
   "id": "6d8f4079-4ea1-4224-9af3-8accfbd84434",
   "metadata": {},
   "source": [
    "Classes match via `isinstance`; if you give an \"empty\" class, you can access it using the original match argument:"
   ]
  },
  {
   "cell_type": "code",
   "execution_count": null,
   "id": "a82e6f63-6b88-40af-8fd9-ef246c5d8864",
   "metadata": {},
   "outputs": [],
   "source": [
    "class AClass:\n",
    "    def __init__(self, value):\n",
    "        self.thing = value\n",
    "\n",
    "\n",
    "item = AClass(32)\n",
    "\n",
    "match item:\n",
    "    case AClass():\n",
    "        print(f\"Got {item = }!\")"
   ]
  },
  {
   "cell_type": "markdown",
   "id": "7386c8ac-5932-4b12-83d0-8a13b627f4fe",
   "metadata": {},
   "source": [
    "Classes look up attributes if you give names:"
   ]
  },
  {
   "cell_type": "code",
   "execution_count": null,
   "id": "7fe4807f-3acf-41c3-954f-e9688179a119",
   "metadata": {},
   "outputs": [],
   "source": [
    "match item:\n",
    "    case AClass(thing=x):\n",
    "        print(f\"Got {x = }!\")"
   ]
  },
  {
   "cell_type": "markdown",
   "id": "0b901c5e-44e3-4ac9-9bc2-0250cc724307",
   "metadata": {},
   "source": [
    "And if you have positional arguments, there is a `__match_args__` attribute that maps positional arguments to keyword arguments (and you get this for free if you use use `dataclass`!):"
   ]
  },
  {
   "cell_type": "code",
   "execution_count": null,
   "id": "245f0e37-d7ea-4d08-85ad-1c91efd68e0d",
   "metadata": {},
   "outputs": [],
   "source": [
    "class BClass:\n",
    "    __match_args__ = (\"thing\",)\n",
    "\n",
    "    def __init__(self, value):\n",
    "        self.thing = value\n",
    "\n",
    "\n",
    "item = BClass(32)\n",
    "\n",
    "match item:\n",
    "    case BClass(x):\n",
    "        print(f\"Got {x = }!\")"
   ]
  },
  {
   "cell_type": "code",
   "execution_count": null,
   "id": "44c63988-9077-4a91-a69c-fc601d067f98",
   "metadata": {},
   "outputs": [],
   "source": [
    "import dataclasses\n",
    "\n",
    "\n",
    "@dataclasses.dataclass\n",
    "class CClass:\n",
    "    thing: int\n",
    "\n",
    "\n",
    "item = CClass(32)\n",
    "\n",
    "match item:\n",
    "    case CClass(x):\n",
    "        print(f\"Got {x = }!\")\n",
    "\n",
    "match item:\n",
    "    case CClass(thing=x):\n",
    "        print(f\"Got {x = }!\")"
   ]
  },
  {
   "cell_type": "markdown",
   "id": "9e7ef4ac-d7d1-45a9-b9c5-79e49de92137",
   "metadata": {},
   "source": [
    "> Built in classes have some custom handling here, so things like `int(x)` work as expected - they basically return `self`. But arbitrary classes are intended to match what they are constructed with, not usually themselves - you already have that. You can also use `MyClass() as x` if you want."
   ]
  },
  {
   "cell_type": "markdown",
   "id": "dc2b2e63-eee7-4f9a-9c29-6b8f586017b5",
   "metadata": {},
   "source": [
    "Many cases where you might have used `isinstance` before can be replaced with pattern matching!"
   ]
  },
  {
   "cell_type": "markdown",
   "id": "8e25e95e-74c8-476a-afc2-1a8f6506215d",
   "metadata": {},
   "source": [
    "Single value unpacking will match anything, so it should always come last."
   ]
  },
  {
   "cell_type": "code",
   "execution_count": null,
   "id": "d0e2b219-d7c4-49cc-9569-ca2fa9c257d1",
   "metadata": {},
   "outputs": [],
   "source": [
    "item = 3.0\n",
    "\n",
    "match item:\n",
    "    case float(x):\n",
    "        print(f\"float {x = }!\")\n",
    "    case int() as x:\n",
    "        print(f\"int {x = }!\")\n",
    "    case _:\n",
    "        print(\"Could be anything else\")"
   ]
  },
  {
   "cell_type": "markdown",
   "id": "96f72c21-4253-4dc6-9009-54f722339bf8",
   "metadata": {},
   "source": [
    "Note the `_` is treated slightly specially - it is allowed multiple times, unlike normal unpacking."
   ]
  },
  {
   "cell_type": "markdown",
   "id": "8394a57e-db99-4926-b53f-3cbb872e7f78",
   "metadata": {},
   "source": [
    "## Guards\n",
    "\n",
    "You can also set up guards - if statements are allowed after the match, just like in comprehensions. Remember, matches happen top to bottom, first one wins."
   ]
  },
  {
   "cell_type": "code",
   "execution_count": null,
   "id": "3659a7d4-6883-4bbb-81c8-6a77172cf452",
   "metadata": {},
   "outputs": [],
   "source": [
    "item = 3.0\n",
    "\n",
    "match item:\n",
    "    case float(x) if x < 3:\n",
    "        print(f\"Small.\")\n",
    "    case float(x) if x >= 3:\n",
    "        print(f\"Big!\")"
   ]
  },
  {
   "cell_type": "markdown",
   "id": "732eae78-5e80-4fb5-9582-00315c33f66a",
   "metadata": {},
   "source": [
    "Sadly, guards are still not allowed on normal loops for consistency with comprehensions and now `case`s, or on arbitrary statements (like in Ruby)."
   ]
  },
  {
   "cell_type": "markdown",
   "id": "3f29883d-7556-4303-9cb3-c1e094ddad77",
   "metadata": {
    "tags": []
   },
   "source": [
    "## Multiple patterns\n",
    "\n",
    "You can \"or\" together multiple patterns."
   ]
  },
  {
   "cell_type": "code",
   "execution_count": null,
   "id": "6b30208a-6ed9-4823-a9d5-9bd63ac1553e",
   "metadata": {},
   "outputs": [],
   "source": [
    "item = 3.0\n",
    "\n",
    "match item:\n",
    "    case float(x) | int(x):\n",
    "        print(f\"{x = } is an int or a float\")"
   ]
  },
  {
   "cell_type": "markdown",
   "id": "6c1dc8c1-db1d-420b-92c5-e36e8201f85f",
   "metadata": {},
   "source": [
    "This can be a bit tricky, since you don't know which or pattern matched - use multiple case statements instead if that matters."
   ]
  },
  {
   "cell_type": "markdown",
   "id": "be960dff-781b-4e97-b541-44003ecab222",
   "metadata": {},
   "source": [
    "## Some examples\n",
    "\n",
    "You've now seen the syntax. Let's look at a couple of examples:"
   ]
  },
  {
   "cell_type": "markdown",
   "id": "4d587156-72ef-4023-979a-509dcfab92ad",
   "metadata": {
    "tags": []
   },
   "source": [
    "### Example 1: strings"
   ]
  },
  {
   "cell_type": "markdown",
   "id": "18d4363a-8799-4d49-98fb-9febe6f801c1",
   "metadata": {
    "tags": []
   },
   "source": [
    "Let's say you want to select behavior based on the first character of an input string. \"*\" followed by nothing else needs to be skipped, \"+\" needs to be ignored, and \"-\" needs to be inverted."
   ]
  },
  {
   "cell_type": "code",
   "execution_count": null,
   "id": "0864bdb2-6820-48a8-9c9c-b7ba7910eef5",
   "metadata": {},
   "outputs": [],
   "source": [
    "values = [\"12\", \"-7\", \"+6\", \"*\"]\n",
    "for val in values:\n",
    "    match val[0], val[1:]:\n",
    "        case \"*\", \"\":\n",
    "            pass\n",
    "        case \"+\", c:\n",
    "            print(c)\n",
    "        case \"-\", c:\n",
    "            print(\"invert:\", c)\n",
    "        case _:\n",
    "            print(val)"
   ]
  },
  {
   "cell_type": "markdown",
   "id": "7a0fa8e8-b531-4c7d-ad17-a1579fb58884",
   "metadata": {},
   "source": [
    "### Example 2: Streams vs. filenames"
   ]
  },
  {
   "cell_type": "markdown",
   "id": "9899dd13-0218-47c4-902a-4dbc2cabf675",
   "metadata": {},
   "source": [
    "Let's say you were going to use `isinstance` to dispatch differently based on a iostream or a string input:"
   ]
  },
  {
   "cell_type": "code",
   "execution_count": null,
   "id": "b352b1b2-5152-49a0-9c12-963a77e40fa1",
   "metadata": {},
   "outputs": [],
   "source": [
    "import os\n",
    "from pathlib import Path\n",
    "\n",
    "file_or_name = Path(\"str.txt\")\n",
    "\n",
    "match file_or_name:\n",
    "    case os.PathLike() as p:\n",
    "        print(f\"Use open({os.fspath(p)!r}) (path)\")\n",
    "    case str(x):\n",
    "        print(f\"Use open({x!r})\")\n",
    "    case io.IOBase():\n",
    "        print(\"Is already a file object\")\n",
    "    case _:\n",
    "        raise RuntimeError(\"Not a valid file or filename!\")"
   ]
  },
  {
   "cell_type": "markdown",
   "id": "a7aa69dc-9ab6-45a5-8fd9-d63ed7a10fc2",
   "metadata": {},
   "source": [
    "Note this is not quite as elegant as it could have been; Path does not have positional support, and `os.PathLike` might not ever be able to have it."
   ]
  },
  {
   "cell_type": "markdown",
   "id": "5c7b7cdb-50c8-4661-839c-e2cb0a7080b0",
   "metadata": {},
   "source": [
    "### Example 3: Picking something from a structure"
   ]
  },
  {
   "cell_type": "markdown",
   "id": "0a4cb134-e909-4ad8-accf-1d421b856ae6",
   "metadata": {},
   "source": [
    "Let's say you had some data structures, and you are looking for information that could be in several different places. You could do it like this:"
   ]
  },
  {
   "cell_type": "code",
   "execution_count": null,
   "id": "b8321b43-efb6-44e7-ba33-7f4721df7282",
   "metadata": {},
   "outputs": [],
   "source": [
    "d = {\n",
    "    \"name\": \"Me Myself\",\n",
    "    \"first_name\": \"Me\",\n",
    "    \"last_name\": \"Myself\",\n",
    "}\n",
    "\n",
    "match d:\n",
    "    case {\"first_name\": fn, \"last_name\": ln}:\n",
    "        print(f\"{fn} {ln} (added)\")\n",
    "    case {\"name\": nm}:\n",
    "        print(nm)"
   ]
  },
  {
   "cell_type": "markdown",
   "id": "b05907e1-8af6-4a1f-87a3-0eb2ead44041",
   "metadata": {},
   "source": [
    "### Example 4: parsing commands"
   ]
  },
  {
   "cell_type": "markdown",
   "id": "a0c2f875-e79f-42e4-970c-006132b38295",
   "metadata": {},
   "source": [
    "Here's an example running some different commands, like for a game:"
   ]
  },
  {
   "cell_type": "code",
   "execution_count": null,
   "id": "b06aabd0-da5f-40d6-8f65-c3a27a943987",
   "metadata": {},
   "outputs": [],
   "source": [
    "def parse_command(*args: str | int) -> None:\n",
    "    match args:\n",
    "        case (\n",
    "            (\"go\", (\"north\" | \"east\" | \"west\" | \"south\") as direction, int(x))\n",
    "            | (\"go\", int(x), (\"north\" | \"east\" | \"west\" | \"south\") as direction)\n",
    "        ):\n",
    "            print(f\"Moving {x} {direction}\")\n",
    "        case (\"press\", str(btn)) if btn in {\"button\", \"switch\", \"lever\"}:\n",
    "            print(f\"Pressing {btn}\")\n",
    "        case _:\n",
    "            raise RuntimeError(\"Failed to understand command\")\n",
    "\n",
    "\n",
    "parse_command(\"go\", \"north\", 4)\n",
    "parse_command(\"go\", 2, \"west\")\n",
    "parse_command(\"press\", \"switch\")"
   ]
  },
  {
   "cell_type": "markdown",
   "id": "c94d50dc-a7ff-4186-b0a9-59173fe72402",
   "metadata": {},
   "source": [
    "Notice how readable this remains, even for complex commands! The fact you can nest this makes it very powerful for parsing."
   ]
  },
  {
   "cell_type": "markdown",
   "id": "554cd706-0ab8-4da5-a086-9797771f838e",
   "metadata": {},
   "source": [
    "## Reminder about new features\n",
    "\n",
    "Can't this be written with chained and nested ifs, ifinstances, and manual unpacking? Absolutely it can. But like other new features, it is _more restrictive_, making it easier to _read_, _comprehend_, and reason about. It specifies that you are trying to match a single variable, while chained ifs could be doing anything, so a reader must check every if to see if the same variable is being used, etc."
   ]
  }
 ],
 "metadata": {
  "kernelspec": {
   "display_name": "Python [conda env:level-up-your-python] *",
   "language": "python",
   "name": "conda-env-level-up-your-python-py"
  },
  "language_info": {
   "codemirror_mode": {
    "name": "ipython",
    "version": 3
   },
   "file_extension": ".py",
   "mimetype": "text/x-python",
   "name": "python",
   "nbconvert_exporter": "python",
   "pygments_lexer": "ipython3",
   "version": "3.10.0"
  }
 },
 "nbformat": 4,
 "nbformat_minor": 5
}
