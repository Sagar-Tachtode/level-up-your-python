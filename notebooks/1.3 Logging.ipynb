{
 "cells": [
  {
   "cell_type": "markdown",
   "metadata": {},
   "source": [
    "# Logging"
   ]
  },
  {
   "cell_type": "markdown",
   "metadata": {},
   "source": [
    "Something broke. Add a print statement! Fixed. Take it out! We've all been here. A steady stream of adding and (hopefully) removing print statements. But there is a better way, if you are willing to pay the (rather ugly) cost of setting it up: Logging. Here's what it looks like (yes, it looks like it was designed in the 80's, even though Python only dates back to '91):"
   ]
  },
  {
   "cell_type": "code",
   "execution_count": null,
   "metadata": {},
   "outputs": [],
   "source": [
    "import logging"
   ]
  },
  {
   "cell_type": "code",
   "execution_count": null,
   "metadata": {},
   "outputs": [],
   "source": [
    "# Global setting\n",
    "logging.basicConfig(level=\"INFO\")"
   ]
  },
  {
   "cell_type": "markdown",
   "metadata": {},
   "source": [
    "This is a global setting that affects all loggers, including the ones in the libraries you are using (hopefully). You can also change in individual logger.\n",
    "\n",
    "Next we get a logger, these are usually given names that match the package they are in (globally unique). If there is no logger to match, one is created."
   ]
  },
  {
   "cell_type": "code",
   "execution_count": null,
   "metadata": {},
   "outputs": [],
   "source": [
    "log = logging.getLogger(\"unique\")"
   ]
  },
  {
   "cell_type": "code",
   "execution_count": null,
   "metadata": {},
   "outputs": [],
   "source": [
    "log.warning(\"Very important\")"
   ]
  },
  {
   "cell_type": "code",
   "execution_count": null,
   "metadata": {},
   "outputs": [],
   "source": [
    "log.info(\"Logging this here\")"
   ]
  },
  {
   "cell_type": "code",
   "execution_count": null,
   "metadata": {},
   "outputs": [],
   "source": [
    "log.debug(\"Logging this here\")"
   ]
  },
  {
   "cell_type": "code",
   "execution_count": null,
   "metadata": {},
   "outputs": [],
   "source": [
    "log.setLevel(\"DEBUG\")\n",
    "\n",
    "log.debug(\"Try again\")"
   ]
  },
  {
   "cell_type": "markdown",
   "metadata": {},
   "source": [
    "You can see that messages at or above the current level get printed out. You can set fancier handlers, too, which can add timestamps and such.\n",
    "\n",
    "This is _very_ powerful for adding printouts that only show up if you ask for info or debug printouts (the normal setting is \"WARN\"). Sadely the design is _very_ old, with classic `%` style formatting baked in (use f-strings in the logging messages, though; that works well), global logger pool, and such. See Rich for a much more beautiful setting.\n",
    "\n",
    "The hardest part is generally setting up the infrastructure for controlling the logger, usually; it's best if you have a flag or environment variable that can control this, and you have to decide or allow a choice on whether you want all loggers or just yours to change level. And you have might want to log to a file, rotate logs, etc; everything doable but not all that pretty."
   ]
  },
  {
   "cell_type": "markdown",
   "metadata": {},
   "source": [
    "## Test logging"
   ]
  },
  {
   "cell_type": "markdown",
   "metadata": {},
   "source": [
    "We'll cover testing later, but you can have pytest add your logs whenever tests fail! This can save a lot of time debugging failures.\n",
    "\n",
    "This is the configuration line to do that:\n",
    "\n",
    "```toml\n",
    "[tool.pytest.ini_options]\n",
    "log_cli_level = \"info\"\n",
    "```"
   ]
  },
  {
   "cell_type": "markdown",
   "metadata": {},
   "source": [
    "## More logging"
   ]
  },
  {
   "cell_type": "markdown",
   "metadata": {},
   "source": [
    "If you need more from your logging, check out [structlog](https://www.structlog.org)! Also [rich](https://rich.readthedocs.io) can print beautiful logs. (And yes, you can combine structlog and rich!)"
   ]
  },
  {
   "cell_type": "markdown",
   "metadata": {},
   "source": [
    "This is how you would use Rich:\n",
    "\n",
    "```python\n",
    "from rich.logging import RichHandler\n",
    "\n",
    "FORMAT = \"%(message)s\"\n",
    "logging.basicConfig(\n",
    "    level=\"NOTSET\", format=FORMAT, datefmt=\"[%X]\", handlers=[RichHandler()]\n",
    ")\n",
    "\n",
    "log = logging.getLogger(\"rich\")\n",
    "log.info(\"Hello, World!\")\n",
    "```\n",
    "\n",
    "(Must be set on first call to `basicConfig`)"
   ]
  },
  {
   "cell_type": "markdown",
   "metadata": {},
   "source": [
    "This should be set for an _application_, not a library - libraries should stick to defaults and let applications override things like this."
   ]
  }
 ],
 "metadata": {
  "kernelspec": {
   "display_name": "Python [conda env:level-up-your-python] *",
   "language": "python",
   "name": "conda-env-level-up-your-python-py"
  },
  "language_info": {
   "codemirror_mode": {
    "name": "ipython",
    "version": 3
   },
   "file_extension": ".py",
   "mimetype": "text/x-python",
   "name": "python",
   "nbconvert_exporter": "python",
   "pygments_lexer": "ipython3",
   "version": "3.10.5"
  }
 },
 "nbformat": 4,
 "nbformat_minor": 4
}
