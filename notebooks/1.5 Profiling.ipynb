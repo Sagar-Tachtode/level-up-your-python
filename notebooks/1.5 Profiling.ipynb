{
 "cells": [
  {
   "cell_type": "markdown",
   "id": "dede0c60-90c2-4b53-9c77-3e3bc588b552",
   "metadata": {
    "tags": []
   },
   "source": [
    "# Profiling\n",
    "\n",
    "If you want to make code faster, always _profile first_; you want to spend your time on the slow parts, and you only want to have the important bits of your code designed to go fast - everything else should be designed to be clean and maintainable.\n",
    "\n",
    "## Line profiler\n",
    "\n",
    "There is a build in cProfile (one of the very, very few modules to still have the \"classic\" Python 2 naming scheme), but instead, let's use `line_profiler` and its IPython magic. Let's start with this simple file that contains a MC sampler:"
   ]
  },
  {
   "cell_type": "code",
   "execution_count": null,
   "id": "58cc8a65-82f7-40aa-ba18-04b3141ec7db",
   "metadata": {},
   "outputs": [],
   "source": [
    "import numpy as np"
   ]
  },
  {
   "cell_type": "code",
   "execution_count": null,
   "id": "26714775-0a2f-46b4-8c12-302b1a40a55e",
   "metadata": {},
   "outputs": [],
   "source": [
    "%%writefile temp_prof.py\n",
    "\n",
    "import numpy as np\n",
    "\n",
    "def norm(loc: float, scale: float, x: np.ndarray) -> np.ndarray:\n",
    "    y = (x - loc) / scale\n",
    "    return np.exp(-y**2/2)/np.sqrt(2*np.pi) / scale\n",
    "\n",
    "def sampler(\n",
    "    data: np.ndarray,\n",
    "    samples: int,\n",
    "    *,\n",
    "    mu_init: float = 0.5,\n",
    "    proposal_width: float = 0.5,\n",
    "    mu_prior_mu: float = 0,\n",
    "    mu_prior_sd: float = 1.0,\n",
    ") -> np.ndarray:\n",
    "    \n",
    "    mu_current = mu_init\n",
    "    posterior = [mu_current]\n",
    "    for i in range(samples):\n",
    "        # Suggest new position\n",
    "        mu_proposal = np.random.normal(mu_current, proposal_width)\n",
    "\n",
    "        # Compute likelihood by multiplying probabilities of each data point\n",
    "        likelihood_current = np.prod(norm(mu_current, 1, data))\n",
    "        likelihood_proposal = np.prod(norm(mu_proposal, 1, data))\n",
    "\n",
    "        # Compute prior probability of current and proposed mu\n",
    "        prior_current = norm(mu_prior_mu, mu_prior_sd, mu_current)\n",
    "        prior_proposal = norm(mu_prior_mu, mu_prior_sd, mu_proposal)\n",
    "\n",
    "        p_current = likelihood_current * prior_current\n",
    "        p_proposal = likelihood_proposal * prior_proposal\n",
    "\n",
    "        # Accept proposal?\n",
    "        p_accept = p_proposal / p_current\n",
    "\n",
    "        # Usually would include prior probability, which we neglect here for simplicity\n",
    "        accept = np.random.rand() < p_accept\n",
    "\n",
    "        if accept:\n",
    "            # Update position\n",
    "            mu_current = mu_proposal\n",
    "\n",
    "        posterior.append(mu_current)\n",
    "\n",
    "    return np.asarray(posterior)\n"
   ]
  },
  {
   "cell_type": "code",
   "execution_count": null,
   "id": "bd26b2f4-976d-42c5-9b9e-071cbea78a48",
   "metadata": {},
   "outputs": [],
   "source": [
    "np.random.seed(123)\n",
    "data = np.random.randn(20)"
   ]
  },
  {
   "cell_type": "code",
   "execution_count": null,
   "id": "e84c8489-b741-4c66-9ff9-85893846cfe1",
   "metadata": {},
   "outputs": [],
   "source": [
    "from temp_prof import sampler"
   ]
  },
  {
   "cell_type": "code",
   "execution_count": null,
   "id": "d8d9dba8-4978-4e94-a16f-ceeed9bae54b",
   "metadata": {},
   "outputs": [],
   "source": [
    "%load_ext line_profiler"
   ]
  },
  {
   "cell_type": "code",
   "execution_count": null,
   "id": "cc40559b-0684-40fc-9493-719931daff25",
   "metadata": {},
   "outputs": [],
   "source": [
    "%lprun -f sampler posterior = sampler(data, samples=10_000, mu_init=1.)"
   ]
  },
  {
   "cell_type": "markdown",
   "id": "4eba2b7d-c47e-40cc-8d4f-f0a3dbcb8148",
   "metadata": {},
   "source": [
    "## Memory profiling\n",
    "\n",
    "Please see [Fil](https://pythonspeed.com/articles/memory-profiler-data-scientists/) - it's installed in this environment."
   ]
  }
 ],
 "metadata": {
  "kernelspec": {
   "display_name": "Python [conda env:level-up-your-python] *",
   "language": "python",
   "name": "conda-env-level-up-your-python-py"
  },
  "language_info": {
   "codemirror_mode": {
    "name": "ipython",
    "version": 3
   },
   "file_extension": ".py",
   "mimetype": "text/x-python",
   "name": "python",
   "nbconvert_exporter": "python",
   "pygments_lexer": "ipython3",
   "version": "3.9.0"
  }
 },
 "nbformat": 4,
 "nbformat_minor": 5
}
