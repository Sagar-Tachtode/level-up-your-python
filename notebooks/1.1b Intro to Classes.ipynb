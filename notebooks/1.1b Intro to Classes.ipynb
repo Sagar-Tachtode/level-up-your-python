{
 "cells": [
  {
   "cell_type": "markdown",
   "id": "26d2c6fc-6368-4335-9a2c-1faa75ff4ece",
   "metadata": {},
   "source": [
    "# Intro to classes\n",
    "\n",
    "This course assumes users have familarity with clasesses, however, if that's not the case, this section should help fill in the basics."
   ]
  },
  {
   "cell_type": "markdown",
   "id": "7464ff6b-e8f9-46cb-a587-41c8faddfac9",
   "metadata": {},
   "source": [
    "## Intro to a class\n",
    "\n",
    "This is what a class looks like:"
   ]
  },
  {
   "cell_type": "code",
   "execution_count": null,
   "id": "5aac5183-31b2-408f-908e-7c57980e3a1d",
   "metadata": {},
   "outputs": [],
   "source": [
    "class Simple:\n",
    "    def function(self) -> None:\n",
    "        print(\"hi!\")"
   ]
  },
  {
   "cell_type": "markdown",
   "id": "719013f2-fa7a-41b5-a37e-c70b5f686e70",
   "metadata": {},
   "source": [
    "A class is a collection of objects, usually functions called \"methods\", that can produce instances. The instances usually also can contain objects, which are usually data values called \"members\". (Note on terminology: an instance of a class _is_ an object.) Following [PEP 8](https://www.python.org/dev/peps/pep-0008/), classes are named in CamelCase (though many classes in Python do not follow this; `int` is a class, for example).\n",
    "\n",
    "Let's make an instance of our Simple class:"
   ]
  },
  {
   "cell_type": "code",
   "execution_count": null,
   "id": "9879c736-0926-4982-a786-53b607666c59",
   "metadata": {},
   "outputs": [],
   "source": [
    "simp = Simple()"
   ]
  },
  {
   "cell_type": "markdown",
   "id": "96452872-5878-4caf-accf-2087ead1a1fd",
   "metadata": {},
   "source": [
    "We \"call\" the class to get an instance. We can then access a \"method\" on the instance:"
   ]
  },
  {
   "cell_type": "code",
   "execution_count": null,
   "id": "793452ca-27ce-441f-94dc-6886490981f6",
   "metadata": {},
   "outputs": [],
   "source": [
    "simp.function()"
   ]
  },
  {
   "cell_type": "markdown",
   "id": "478f4796-44ea-4097-b37a-13e56c637568",
   "metadata": {},
   "source": [
    "We did not store any state in the class, but usually you do. Let's look at a built-in class, `int`:"
   ]
  },
  {
   "cell_type": "code",
   "execution_count": null,
   "id": "abd7fc01-73de-4996-b2b2-a83e902cf170",
   "metadata": {},
   "outputs": [],
   "source": [
    "my_int = int(3)"
   ]
  },
  {
   "cell_type": "markdown",
   "id": "26ee85ce-d455-4ce9-9c66-eef5815fd169",
   "metadata": {},
   "source": [
    "Since this is so common, there's a built in shortcut for this - we could have used `my_int = 3` directly - Python turns numbers into integers when it sees them. We can call methods, too:"
   ]
  },
  {
   "cell_type": "code",
   "execution_count": null,
   "id": "bd9234d1-b2a9-4526-8207-8d15665f9831",
   "metadata": {},
   "outputs": [],
   "source": [
    "my_int.bit_length()"
   ]
  },
  {
   "cell_type": "markdown",
   "id": "298108a5-965f-4943-baf8-42899e0dd328",
   "metadata": {},
   "source": [
    "It takes 2 bits to be able to represent this integer. Python uses many more than that, but this is useful information about integers.\n",
    "\n",
    "> Note: you cannot write `3.bit_length()`; due to the Python parser, this is invalid syntax. You can, however, do this with a float. `2.0.is_integer()` is valid, for example."
   ]
  },
  {
   "cell_type": "markdown",
   "id": "e48fe023-c3a1-458a-8019-0688de5367fd",
   "metadata": {},
   "source": [
    "## Special methods\n",
    "\n",
    "We can't go very far without writing a special method. Python has a lot of speical methods that have double underscores before and after the name - called \"dunder methods\". These customize all sorts of things about the class. Let's look at the most important one:"
   ]
  },
  {
   "cell_type": "code",
   "execution_count": null,
   "id": "c90dbacc-eb8f-4e8d-a605-3a8fefb8c09c",
   "metadata": {},
   "outputs": [],
   "source": [
    "class Simple:\n",
    "    def __init__(self, msg: str):\n",
    "        self.msg = msg\n",
    "\n",
    "    def function(self) -> None:\n",
    "        print(self.msg)"
   ]
  },
  {
   "cell_type": "markdown",
   "id": "d9a33510-af53-4c0e-b243-47bb59b0ca7f",
   "metadata": {},
   "source": [
    "Now we finally can see a member! It's called `msg` - and it's stored on the instance, not the class. Let's try it out:"
   ]
  },
  {
   "cell_type": "code",
   "execution_count": null,
   "id": "a34876a0-12c2-4431-a8f1-3ae368438bf2",
   "metadata": {},
   "outputs": [],
   "source": [
    "simple_1 = Simple(\"I'm first\")\n",
    "simple_2 = Simple(\"I'm second\")"
   ]
  },
  {
   "cell_type": "code",
   "execution_count": null,
   "id": "a87b021f-bb1e-4ff2-a8d9-b1605f7cfded",
   "metadata": {},
   "outputs": [],
   "source": [
    "simple_1.function()\n",
    "simple_2.function()"
   ]
  },
  {
   "cell_type": "code",
   "execution_count": null,
   "id": "80428a68-976a-4495-99fe-e6b959f94c45",
   "metadata": {},
   "outputs": [],
   "source": [
    "print(simple_1.msg)\n",
    "print(simple_2.msg)"
   ]
  },
  {
   "cell_type": "markdown",
   "id": "85ec798f-eeb6-4d6e-92fd-cd54c786352d",
   "metadata": {},
   "source": [
    "Each instance stores a value of `msg` inside, while `function` is stored on the class."
   ]
  },
  {
   "cell_type": "code",
   "execution_count": null,
   "id": "f3b9fcd1-8458-423b-8eb4-a2542d02bf85",
   "metadata": {},
   "outputs": [],
   "source": [
    "simple_1.msg == simple_2.msg"
   ]
  },
  {
   "cell_type": "code",
   "execution_count": null,
   "id": "42a9f3c0-a5d6-4d93-8a5c-af3e6c948d0e",
   "metadata": {},
   "outputs": [],
   "source": [
    "simple_1.function == simple_2.function"
   ]
  },
  {
   "cell_type": "markdown",
   "id": "271c9ee1-c494-4764-9132-e4ca5694ca71",
   "metadata": {},
   "source": [
    "Wait, what? Didn't I just tell you that `function` was stored on the class? Yes, it is - but accessing it this way is a shortcut - notice you didn't have to pass `self` in? So `simple_1.function(` is short for `Simple.function(simple_1,`. The object is added as the first parameter when you access a method on an instance, creating a \"bound method\".\n",
    "\n",
    "Armed with our new knoledge, let's try calling the class methods by hand:"
   ]
  },
  {
   "cell_type": "code",
   "execution_count": null,
   "id": "1f941e5c-31bc-4c21-9cb1-d09df47e20db",
   "metadata": {},
   "outputs": [],
   "source": [
    "Simple.function(simple_1)\n",
    "Simple.function(simple_2)"
   ]
  },
  {
   "cell_type": "markdown",
   "id": "1059c46e-57e7-4eb7-b0e2-e77178159e7c",
   "metadata": {},
   "source": [
    "> Aside: This is not at all how you'd normally call this, but this is useful later when reasoning about how other features work, and for a sneaky trick: _any object_ can be passed in, not just an instance of the class (was not true in Python 2). In this case, the object simply needs to have a `.msg` attribute to be used in `Simple.function`. If you are tempted to write a library that provides both free functions and methods to do the same thing, this means they can be one and the same, avoiding duplication for you and learning two APIs for your users."
   ]
  }
 ],
 "metadata": {
  "kernelspec": {
   "display_name": "Python [conda env:level-up-your-python] *",
   "language": "python",
   "name": "conda-env-level-up-your-python-py"
  },
  "language_info": {
   "codemirror_mode": {
    "name": "ipython",
    "version": 3
   },
   "file_extension": ".py",
   "mimetype": "text/x-python",
   "name": "python",
   "nbconvert_exporter": "python",
   "pygments_lexer": "ipython3",
   "version": "3.9.0"
  }
 },
 "nbformat": 4,
 "nbformat_minor": 5
}
