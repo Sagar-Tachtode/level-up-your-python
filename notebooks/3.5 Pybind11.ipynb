{
 "cells": [
  {
   "cell_type": "markdown",
   "metadata": {},
   "source": [
    "# Pybind11: Use C++ libraries\n",
    "\n",
    "\n",
    "[Pybind11](https://github.com/pybind/pybind11) lets you write Python extensions using pure C++; no special tool or processing step needed. It's just a header-only library that works just about everywhere. Used by SciPy, PyTorch, and many more libraries."
   ]
  },
  {
   "cell_type": "markdown",
   "metadata": {},
   "source": [
    "A Python extension in pybind11 looks like this:\n",
    "\n",
    "```cpp\n",
    "#include <pybind11/pybind11.h>\n",
    "\n",
    "namespace py = pybind11;\n",
    "\n",
    "int square(int x) {\n",
    "    return x * x;\n",
    "}\n",
    "\n",
    "PYBIND11_MODULE(somecode, m) {\n",
    "    m.def(\"square\", &square);\n",
    "}\n",
    "```"
   ]
  },
  {
   "cell_type": "markdown",
   "metadata": {},
   "source": [
    "You can use `cppimport` to import it for a quick test, or setuptools, or CMake + Setuptools to build. I'm not including a compiler in this environment, so I'm not going to build here - see one of my other classes. This is a minimal setup.py (with metadata in setup.cfg):\n",
    "\n",
    "```python\n",
    "from setuptools import setup\n",
    "from pybind11.setup_helpers import Pybind11Extension\n",
    "\n",
    "ext_modules = [\n",
    "    Pybind11Extension(\n",
    "        \"python_example\",\n",
    "        [\"src/main.cpp\"],\n",
    "    ),\n",
    "]\n",
    "\n",
    "setup(ext_modules=ext_modules)\n",
    "```"
   ]
  },
  {
   "cell_type": "markdown",
   "metadata": {},
   "source": [
    "And, your pyproject.toml:\n",
    "\n",
    "```toml\n",
    "[build-system]\n",
    "requires = [\"setuptools>=42\", \"wheel\", \"pybind11~=2.6.1\"]\n",
    "build-backend = \"setuptools.build_meta\"\n",
    "```"
   ]
  },
  {
   "cell_type": "markdown",
   "metadata": {},
   "source": [
    "If you want to build and distribute, [cibuildwheel](https://cibuildwheel.readthedocs.io/en/stable/) is becoming the gold standard, used by Scikit-Learn, Matplotlib, and many more; it can be setup for Linux, macOS, and Windows and all common CPython and PyPy versions in just 14 lines:\n",
    "\n",
    "```yaml\n",
    "on: [push, pull_request]\n",
    "\n",
    "jobs:\n",
    "  build_wheels:\n",
    "    strategy:\n",
    "      matrix:\n",
    "        os: [ubuntu-20.04, windows-2019, macOS-10.15]\n",
    "    runs-on: ${{ matrix.os }}\n",
    "\n",
    "    steps:\n",
    "      - uses: actions/checkout@v2\n",
    "\n",
    "      - uses: actions/setup-python@v2\n",
    "        \n",
    "      - uses: joerick/cibuildwheel@v1.7.4\n",
    "\n",
    "      - uses: actions/upload-artifact@v2\n",
    "        with:\n",
    "          path: ./wheelhouse/*.whl\n",
    "```\n",
    "\n",
    "(Most real projects will likely filter out Python & PyPy 2.7 and Python 3.5)"
   ]
  },
  {
   "cell_type": "markdown",
   "metadata": {},
   "source": [
    "PS: Disclaimer: I am an active member of both projects."
   ]
  }
 ],
 "metadata": {
  "kernelspec": {
   "display_name": "conda-env-level-up-your-python-py",
   "language": "python",
   "name": "conda-env-level-up-your-python-py"
  },
  "language_info": {
   "codemirror_mode": {
    "name": "ipython",
    "version": 3
   },
   "file_extension": ".py",
   "mimetype": "text/x-python",
   "name": "python",
   "nbconvert_exporter": "python",
   "pygments_lexer": "ipython3",
   "version": "3.8.6"
  }
 },
 "nbformat": 4,
 "nbformat_minor": 4
}
