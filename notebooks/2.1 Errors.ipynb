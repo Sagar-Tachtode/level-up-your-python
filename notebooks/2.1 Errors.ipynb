{
 "cells": [
  {
   "cell_type": "markdown",
   "metadata": {},
   "source": [
    "# Errors and catching them\n",
    "\n",
    "There are two types of errors in Python. A few really bad errors are segfaults. These are almost always something triggered via the C interface (such as by using `ctypes`), and are not due to problems in your Python code. _Most_ errors in Python are part of the language, called Exceptions.\n",
    "\n",
    "An Exception is just a special control flow feature for things that are \"exceptional\"; often errors, but they are used for other things. In fact, internally, loops end by triggering a special exception!\n",
    "\n",
    "Exceptions \"bubble up\" through the stack to the outermost scope. If you catch an exception before it reaches the top, you can handle it. If you don't, then it shows up on the screen or in your logs as a traceback."
   ]
  },
  {
   "cell_type": "code",
   "execution_count": null,
   "metadata": {},
   "outputs": [],
   "source": [
    "# Uncomment this to see an exception:\n",
    "# 1 / 0"
   ]
  },
  {
   "cell_type": "code",
   "execution_count": null,
   "metadata": {},
   "outputs": [],
   "source": [
    "try:\n",
    "    1 / 0\n",
    "except ZeroDivisionError:\n",
    "    pass"
   ]
  },
  {
   "cell_type": "markdown",
   "metadata": {},
   "source": [
    "Exceptions use inheritance to form a tree structure, so you can be as tight or as loose as needed in catching them. Let's see the parents of Zero Division error:"
   ]
  },
  {
   "cell_type": "code",
   "execution_count": null,
   "metadata": {},
   "outputs": [],
   "source": [
    "ZeroDivisionError.__mro__"
   ]
  },
  {
   "cell_type": "markdown",
   "metadata": {},
   "source": [
    "You could catch any of these instead:"
   ]
  },
  {
   "cell_type": "code",
   "execution_count": null,
   "metadata": {},
   "outputs": [],
   "source": [
    "try:\n",
    "    1 / 0\n",
    "except ArithmeticError as e:\n",
    "    print(repr(e))"
   ]
  },
  {
   "cell_type": "markdown",
   "metadata": {},
   "source": [
    "Always catch the most narrow exception you can! Never try to catch a really broad class or all exceptions, because things like running out of memory, exit signals, and more are exceptions too, and you don't want to catch those if you didn't mean to!\n",
    "\n",
    "Here's a basic example of making your own:"
   ]
  },
  {
   "cell_type": "code",
   "execution_count": null,
   "metadata": {},
   "outputs": [],
   "source": [
    "class MyNewException(RuntimeError):\n",
    "    pass\n",
    "\n",
    "\n",
    "try:\n",
    "    raise MyNewException()\n",
    "except MyNewException:\n",
    "    pass"
   ]
  },
  {
   "cell_type": "markdown",
   "metadata": {},
   "source": [
    "There can be as many `except` blocks as you need, there's an `else` block if you want something to run only if nothing was caught, and there's also a `finally` block, which will always run, even if the exception is caught:"
   ]
  },
  {
   "cell_type": "code",
   "execution_count": null,
   "metadata": {},
   "outputs": [],
   "source": [
    "try:\n",
    "    1 / 0\n",
    "except ArithmeticError:\n",
    "    print(\"Caught the exception!\")\n",
    "finally:\n",
    "    print(\"I can run cleanup, regardless of what happens above!\")"
   ]
  },
  {
   "cell_type": "markdown",
   "metadata": {},
   "source": [
    "Where would you want something like this? How about closing a file!\n",
    "\n",
    "```python\n",
    "try:\n",
    "    f = open(...)\n",
    "    # do stuff with f that might throw an exception (basically anything)\n",
    "finally:\n",
    "    f.close()\n",
    "```\n",
    "\n",
    "This way, if an exception is thrown, the file still gets nicely closed. In fact, this is so important, we'll see a feature built around it soon!"
   ]
  }
 ],
 "metadata": {
  "kernelspec": {
   "display_name": "conda-env-level-up-your-python-py",
   "language": "python",
   "name": "conda-env-level-up-your-python-py"
  },
  "language_info": {
   "codemirror_mode": {
    "name": "ipython",
    "version": 3
   },
   "file_extension": ".py",
   "mimetype": "text/x-python",
   "name": "python",
   "nbconvert_exporter": "python",
   "pygments_lexer": "ipython3",
   "version": "3.8.6"
  },
  "toc-autonumbering": false,
  "toc-showmarkdowntxt": false,
  "toc-showtags": false
 },
 "nbformat": 4,
 "nbformat_minor": 4
}
