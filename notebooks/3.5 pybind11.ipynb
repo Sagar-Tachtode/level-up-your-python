{
 "cells": [
  {
   "cell_type": "markdown",
   "metadata": {},
   "source": [
    "# Pybind11: Use C++ libraries\n",
    "\n",
    "\n",
    "[Pybind11](https://github.com/pybind/pybind11) lets you write Python extensions using pure C++; no special tool or processing step needed. It's just a header-only library that works just about everywhere. Used by SciPy, PyTorch, and many more libraries."
   ]
  },
  {
   "cell_type": "markdown",
   "metadata": {},
   "source": [
    "## Example\n",
    "\n",
    "A Python extension in pybind11 looks like this:\n",
    "\n",
    "---\n",
    "\n",
    "```cpp\n",
    "#include <pybind11/pybind11.h>\n",
    "\n",
    "namespace py = pybind11;\n",
    "\n",
    "int square(int x) {\n",
    "    return x * x;\n",
    "}\n",
    "\n",
    "PYBIND11_MODULE(somecode, m) {\n",
    "    m.def(\"square\", &square);\n",
    "}\n",
    "```\n",
    "\n",
    "---"
   ]
  },
  {
   "cell_type": "markdown",
   "metadata": {},
   "source": [
    "You can use `cppimport` to import it for a quick test, or setuptools, or CMake + Setuptools to build. I'm not including a compiler in this environment, so I'm not going to build here - see one of my other classes. This is a minimal setup.py (with metadata in setup.cfg):\n",
    "\n",
    "---\n",
    "\n",
    "`setup.py`:\n",
    "```python\n",
    "from setuptools import setup\n",
    "from pybind11.setup_helpers import Pybind11Extension\n",
    "\n",
    "ext_modules = [\n",
    "    Pybind11Extension(\n",
    "        \"python_example\",\n",
    "        [\"src/main.cpp\"],\n",
    "    ),\n",
    "]\n",
    "\n",
    "setup(ext_modules=ext_modules)\n",
    "```\n",
    "\n",
    "`setup.cfg`:\n",
    "```ini\n",
    "[metadata]\n",
    "name = example\n",
    "version = 0.0.1\n",
    "author = Sam I Am\n",
    "author_email = author@example.com\n",
    "description = A small example package\n",
    "\n",
    "[options]\n",
    "packages = find:\n",
    "python_requires = >=3.6\n",
    "```\n",
    "\n",
    "---"
   ]
  },
  {
   "cell_type": "markdown",
   "metadata": {},
   "source": [
    "And, your pyproject.toml:\n",
    "\n",
    "\n",
    "---\n",
    "\n",
    "```toml\n",
    "[build-system]\n",
    "requires = [\"setuptools>=42\", \"wheel\", \"pybind11>=2.6\"]\n",
    "build-backend = \"setuptools.build_meta\"\n",
    "```\n",
    "\n",
    "---"
   ]
  },
  {
   "cell_type": "markdown",
   "metadata": {},
   "source": [
    "If you want to build and distribute, use [cibuildwheel](https://cibuildwheel.readthedocs.io), which is used by Scikit-Learn, Matplotlib, MyPy, and many more; it can be setup for Linux, macOS, and Windows and all common CPython and PyPy versions in just 13 lines:\n",
    "\n",
    "---\n",
    "\n",
    "```yaml\n",
    "on: [push, pull_request]\n",
    "\n",
    "jobs:\n",
    "  build_wheels:\n",
    "    strategy:\n",
    "      matrix:\n",
    "        os: [ubuntu-20.04, windows-2019, macOS-10.15]\n",
    "    runs-on: ${{ matrix.os }}\n",
    "\n",
    "    steps:\n",
    "      - uses: actions/checkout@v2\n",
    "        \n",
    "      - uses: pypa/cibuildwheel@v2.3.1\n",
    "\n",
    "      - uses: actions/upload-artifact@v2\n",
    "        with:\n",
    "          path: ./wheelhouse/*.whl\n",
    "```\n",
    "---\n"
   ]
  },
  {
   "cell_type": "markdown",
   "metadata": {},
   "source": [
    "## So much more\n",
    "\n",
    "Some examples of classes:\n",
    "\n",
    "```python\n",
    "#include <pybind11/operators.h>\n",
    "\n",
    "using namespace pybind11::literals;\n",
    "\n",
    "PYBIND11_MODULE(example, m) {\n",
    "    py::class_<Vector>(m, \"Vector\")\n",
    "        .def(py::init<double, double>())\n",
    "        .def_property(\"x\", &Vector::getX, &Vector::setX)\n",
    "        .def_property(\"y\", &Vector::getY, &Vector::setY)\n",
    "        .def(\"mag\", &Vector::mag, \"I am a mag function\")\n",
    "    \n",
    "        .def(\"unit\", [](const Vector& self){return self.unit();})\n",
    "    \n",
    "        .def(\"__str__\", [](const Vector& self){return py::str(\"[{}, {}]\").format(self.getX(), self.getY());})\n",
    "        \n",
    "        .def(py::self *= float())\n",
    "        .def(float() * py::self)\n",
    "        .def(py::self * float())\n",
    "}\n",
    "```"
   ]
  },
  {
   "cell_type": "markdown",
   "metadata": {},
   "source": [
    "You can use lambda functions almost anywhere, and you can ask for `py::object` or the C++ type interchangeably, or cast between them. "
   ]
  }
 ],
 "metadata": {
  "kernelspec": {
   "display_name": "Python [conda env:level-up-your-python] *",
   "language": "python",
   "name": "conda-env-level-up-your-python-py"
  },
  "language_info": {
   "codemirror_mode": {
    "name": "ipython",
    "version": 3
   },
   "file_extension": ".py",
   "mimetype": "text/x-python",
   "name": "python",
   "nbconvert_exporter": "python",
   "pygments_lexer": "ipython3",
   "version": "3.10.0"
  }
 },
 "nbformat": 4,
 "nbformat_minor": 4
}
