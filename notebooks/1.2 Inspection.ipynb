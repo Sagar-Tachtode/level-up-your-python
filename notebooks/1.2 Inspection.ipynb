{
 "cells": [
  {
   "cell_type": "markdown",
   "id": "621d873b-a8e7-4ed3-88ed-9575a726a0a0",
   "metadata": {},
   "source": [
    "# Inspection\n",
    "\n",
    "Everything in Python is an object. You can inspect objects! Objects usually contain help information, and you can see what's available, and often can even find the source all through inspection."
   ]
  },
  {
   "cell_type": "code",
   "execution_count": null,
   "id": "226b3dd9-c64b-4b58-927d-024a75b6d79e",
   "metadata": {
    "tags": [
     "remove-cell"
    ]
   },
   "outputs": [],
   "source": [
    "# WebAssembly version using Pyodide!\n",
    "# The following code is specific to the Pyodide backend.\n",
    "\n",
    "import sys\n",
    "\n",
    "if sys.platform.startswith(\"emscripten\"):\n",
    "    import micropip\n",
    "\n",
    "    await micropip.install(\"rich\")"
   ]
  },
  {
   "cell_type": "markdown",
   "id": "9d19dab0-4474-48cf-9f4c-e02ee5bc24e1",
   "metadata": {},
   "source": [
    "## Inspecting\n",
    "\n",
    "You can inspect objects. There are lots of ways.\n",
    "\n",
    "* In a Jupyter notebook, use `object.<tab>` to bring up completions, shift tab for help.\n",
    "* You can use `dir(object)` to see all attributes (more or less)\n",
    "* You can use `help(object)` or `object?` (IPython only) to see help\n",
    "* You can `import inspect` and use the tools there\n",
    "* You can install the rich library and use `rich.inspect()`"
   ]
  },
  {
   "cell_type": "code",
   "execution_count": null,
   "id": "d8b218eb-a08b-46cb-948b-8cfde5a27f40",
   "metadata": {},
   "outputs": [],
   "source": [
    "def f(x: float) -> float:\n",
    "    \"\"\"I am a square!\"\"\"\n",
    "    return x**2"
   ]
  },
  {
   "cell_type": "markdown",
   "id": "d8eb6422-d609-4360-814d-6e106306b194",
   "metadata": {},
   "source": [
    "The help of an object includes its signature and its docstring:"
   ]
  },
  {
   "cell_type": "code",
   "execution_count": null,
   "id": "7b600d81-dd98-442f-9b92-829cf57a6c51",
   "metadata": {},
   "outputs": [],
   "source": [
    "help(f)"
   ]
  },
  {
   "cell_type": "markdown",
   "id": "a530a3df-961a-4623-abc1-2c39460bd894",
   "metadata": {},
   "source": [
    "You can see a list of methods (or use `<tab>` in iPython or the Python REPL, but underscored methods often require you start by typing an underscore first):"
   ]
  },
  {
   "cell_type": "code",
   "execution_count": null,
   "id": "67de20b0-f7a1-46ed-bcc9-729012f24027",
   "metadata": {},
   "outputs": [],
   "source": [
    "dir(f)"
   ]
  },
  {
   "cell_type": "markdown",
   "id": "bc9dba3e-ce68-4d52-8ed1-a4ce7693c6ad",
   "metadata": {},
   "source": [
    "The inspect module is a built-in module that can provide a lot of other information:"
   ]
  },
  {
   "cell_type": "code",
   "execution_count": null,
   "id": "bf2fe178-a08f-4888-a24a-433eb973e2f7",
   "metadata": {},
   "outputs": [],
   "source": [
    "import inspect\n",
    "\n",
    "print(inspect.getsourcefile(f))\n",
    "print()\n",
    "print(inspect.getsource(f))\n",
    "# WARNING! THIS DOES NOT ALWAYS WORK!"
   ]
  },
  {
   "cell_type": "markdown",
   "id": "fc8ec338-8629-4156-891d-0489d0b39a8f",
   "metadata": {},
   "source": [
    "**WARNING: You cannot *always* see the source of a function, so this is a user trick, not one to use in a library!**\n",
    "\n",
    "Python does a three stage procedure when interpreting. It converts source to bytecode (pyc files), then runs the bytecode in the interpreter. When loading a file that has been run before (or came from a wheel, more on that later), it only loads the bytecode if the source hasn't changed - the source is not re-parsed. So inspect works by looking up the original file location. _But you can delete the original file and run from bytecode only!_ Don't do that, but you can. Also, you can run from a zip file, and the original file might not be openable. And, finally, when running live in a REPL, there may not be a source (it works in IPython for us, though).\n"
   ]
  },
  {
   "cell_type": "code",
   "execution_count": null,
   "id": "83a3d9c7-0bdc-450c-b20c-080467cd6135",
   "metadata": {},
   "outputs": [],
   "source": [
    "import rich\n",
    "\n",
    "rich.inspect(f)"
   ]
  },
  {
   "cell_type": "code",
   "execution_count": null,
   "id": "dfd8bbf0-9b57-402c-8c41-5184a5949f6b",
   "metadata": {},
   "outputs": [],
   "source": [
    "rich.inspect(3)"
   ]
  },
  {
   "cell_type": "markdown",
   "id": "5cbb730b-2a13-4bc5-80cd-d84610f0805d",
   "metadata": {},
   "source": [
    "> Try adding different keyword arguments to `rich.inspect`. Shift-tab in IPython to see options. `methods=True` on the int, for example."
   ]
  }
 ],
 "metadata": {
  "kernelspec": {
   "display_name": "Python [conda env:level-up-your-python] *",
   "language": "python",
   "name": "conda-env-level-up-your-python-py"
  },
  "language_info": {
   "codemirror_mode": {
    "name": "ipython",
    "version": 3
   },
   "file_extension": ".py",
   "mimetype": "text/x-python",
   "name": "python",
   "nbconvert_exporter": "python",
   "pygments_lexer": "ipython3",
   "version": "3.10.5"
  }
 },
 "nbformat": 4,
 "nbformat_minor": 5
}
