{
 "cells": [
  {
   "cell_type": "markdown",
   "metadata": {},
   "source": [
    "# Object Oriented Programming"
   ]
  },
  {
   "cell_type": "markdown",
   "metadata": {},
   "source": [
    "Objects are _very_ powerful, and you can harness this power for your own designs!"
   ]
  },
  {
   "cell_type": "markdown",
   "metadata": {},
   "source": [
    "## Writing a class\n",
    "\n",
    "Writing a class should be second nature, and very natural to you - just as natural as writing a function!"
   ]
  },
  {
   "cell_type": "code",
   "execution_count": 6,
   "metadata": {},
   "outputs": [
    {
     "name": "stdout",
     "output_type": "stream",
     "text": [
      "f(3) = 9\n"
     ]
    }
   ],
   "source": [
    "def f(x: float) -> float:\n",
    "    return x ** 2\n",
    "\n",
    "\n",
    "print(f\"{f(3) = }\")"
   ]
  },
  {
   "cell_type": "code",
   "execution_count": 7,
   "metadata": {},
   "outputs": [
    {
     "name": "stdout",
     "output_type": "stream",
     "text": [
      "f_inst(3) = 9\n"
     ]
    }
   ],
   "source": [
    "class F:\n",
    "    def __call__(self, x: float) -> float:\n",
    "        return x ** 2\n",
    "\n",
    "\n",
    "f_inst = F()\n",
    "print(f\"{f_inst(3) = }\")"
   ]
  },
  {
   "cell_type": "markdown",
   "metadata": {},
   "source": [
    "## How classes work (Advanced, for self reading)\n",
    "\n",
    "Classes are basically bags of objects with a few special features. So what separates them from a dict?\n",
    "\n",
    "### The Type\n",
    "\n",
    "All objects are \"based\" on a class (AKA type). You can call `type(object)` or `object.__class__` to get the class of an object. Types can \"inherit\" from other types, which just means they build on the other. The type is generally the \"shared\" part for objects, while the object itself holds the \"unique\" part that makes an instance special. Types tend to have methods, and instances tend to have member data, but since everything is an object, and functions really are just callable objects, the distinction between a variable and a function is a bit fuzzy. And that's okay.\n",
    "\n",
    "Think of it this way: I am an instance of a Person. A Person inherits from a LivingThing. So I am an object, a Person is my class, and a Person inherits from LivingThing. You could have more levels of inheritance, like Mammal, if you want; in \"real life\", we tend to use this a lot, since it helps us structure our thinking. It helps structure our programs, too!"
   ]
  },
  {
   "cell_type": "markdown",
   "metadata": {},
   "source": [
    "### MRO (Method Resolution Order)\n",
    "\n",
    "So, if you have an object `obj`, and you call `obj.something`, where does `something` come from, and is it a function or a variable? Hopefully, you know the answer to that last part of the question: there is no difference between a function and a variable; it's an object, and objects might be callable. The lookup order is called the MRO, or Method Resolution Order. It is:\n",
    "\n",
    "1. **The object itself.** If the object has a `\"something\"` in `__slots__` or `__dict__`, then that's what you get.\n",
    "2. **The class.** If it does not exist in the object, then it is pulled from the class.\n",
    "3. **The parents of the class.** Then the parent (or parents) are checked. If there are multiple parents, the parents are checked left to right.\n",
    "4. **The parent's parents (recursively).** Then the parent of parents are checked, all the way up until you hit `object`, which is the final parent and base for all classes.\n",
    "\n",
    "You can see steps 2-4 using `.__mro__` on the class:"
   ]
  },
  {
   "cell_type": "code",
   "execution_count": 9,
   "metadata": {},
   "outputs": [
    {
     "data": {
      "text/plain": [
       "(__main__.F, object)"
      ]
     },
     "execution_count": 9,
     "metadata": {},
     "output_type": "execute_result"
    }
   ],
   "source": [
    "F.__mro__"
   ]
  },
  {
   "cell_type": "markdown",
   "metadata": {},
   "source": [
    "### Accessors\n",
    "\n",
    "When you find a object, what do you actually return? Python has an accessor system. If the object has a `__get__` method (or `__set__` if you are setting something), then that is called with the instance as the argument and the result is returned. This is how methods work - (all) functions have a `__get__`, so when they are inside a class, they get called with `self` first; they return a \"bound\" method, one that will always include the instance in the call. This is how properties and staticmethod/classmethod work too, they customize `__get__`."
   ]
  },
  {
   "cell_type": "code",
   "execution_count": 10,
   "metadata": {},
   "outputs": [
    {
     "data": {
      "text/plain": [
       "<function __main__.F.__call__(self, x: float) -> float>"
      ]
     },
     "execution_count": 10,
     "metadata": {},
     "output_type": "execute_result"
    }
   ],
   "source": [
    "F.__call__"
   ]
  },
  {
   "cell_type": "code",
   "execution_count": 13,
   "metadata": {},
   "outputs": [
    {
     "data": {
      "text/plain": [
       "4"
      ]
     },
     "execution_count": 13,
     "metadata": {},
     "output_type": "execute_result"
    }
   ],
   "source": [
    "F.__call__(None, 2)"
   ]
  },
  {
   "cell_type": "code",
   "execution_count": 11,
   "metadata": {},
   "outputs": [
    {
     "data": {
      "text/plain": [
       "<bound method F.__call__ of <__main__.F object at 0x7fb121732400>>"
      ]
     },
     "execution_count": 11,
     "metadata": {},
     "output_type": "execute_result"
    }
   ],
   "source": [
    "f_inst.__call__"
   ]
  },
  {
   "cell_type": "code",
   "execution_count": 14,
   "metadata": {},
   "outputs": [
    {
     "data": {
      "text/plain": [
       "4"
      ]
     },
     "execution_count": 14,
     "metadata": {},
     "output_type": "execute_result"
    }
   ],
   "source": [
    "f_inst.__call__(2)"
   ]
  },
  {
   "cell_type": "markdown",
   "metadata": {},
   "source": [
    "We could to this by hand if we wanted to:"
   ]
  },
  {
   "cell_type": "code",
   "execution_count": 15,
   "metadata": {},
   "outputs": [
    {
     "data": {
      "text/plain": [
       "<bound method F.__call__ of <__main__.F object at 0x7fb121732400>>"
      ]
     },
     "execution_count": 15,
     "metadata": {},
     "output_type": "execute_result"
    }
   ],
   "source": [
    "F.__call__.__get__(f_inst)"
   ]
  },
  {
   "cell_type": "markdown",
   "metadata": {},
   "source": [
    "### Special methods\n",
    "\n",
    "Special methods are slightly special. If you perform an action that calls a special method, _it explicitly calls the class_, not the instance. So for example, `f(3)` calls `F.__call__(f, 3)`, _not_ `f.__call__(3)`. This was mostly an optimization, but it means you can't provide special behavior for an instance of a class that is not shared by the rest of the class. Which is probably good."
   ]
  },
  {
   "cell_type": "markdown",
   "metadata": {},
   "source": [
    "### Accessing something dynamic\n",
    "\n",
    "Python lets you control this lookup with two special methods. One is `__getattr__`, which gets called if no attribute is found using the normal lookup method described above. You could use this to make a class that has dynamic methods beyond what it normally has. The second method is `__getattribute__`, which is called before anything else is looked up - you can literally do anything here, but at the cost that you have to then implement or revert to normal attribute lookup yourself to make the class usable, and simply getting at things like the data members in the class is a pain, since it will call itself. This should only be used in emergencies!\n",
    "\n",
    "For setting, you don't need this split, so there's just `__setattr__`."
   ]
  },
  {
   "cell_type": "markdown",
   "metadata": {},
   "source": [
    "### `__dict__` and `__slots__`\n",
    "\n",
    "Most user classes are `__dict__` classes, which store a dict on every instance. This is partially because it's what you get by default, and partially because it fits with the philosophy of Python."
   ]
  },
  {
   "cell_type": "code",
   "execution_count": 16,
   "metadata": {},
   "outputs": [],
   "source": [
    "class Simple:\n",
    "    a = 1\n",
    "\n",
    "    def __init__(self):\n",
    "        self.b = 2"
   ]
  },
  {
   "cell_type": "code",
   "execution_count": 17,
   "metadata": {},
   "outputs": [
    {
     "data": {
      "text/plain": [
       "{'b': 2}"
      ]
     },
     "execution_count": 17,
     "metadata": {},
     "output_type": "execute_result"
    }
   ],
   "source": [
    "s = Simple()\n",
    "s.__dict__"
   ]
  },
  {
   "cell_type": "code",
   "execution_count": 18,
   "metadata": {},
   "outputs": [
    {
     "data": {
      "text/plain": [
       "{'b': 2, 'c': 3}"
      ]
     },
     "execution_count": 18,
     "metadata": {},
     "output_type": "execute_result"
    }
   ],
   "source": [
    "s.c = 3\n",
    "s.__dict__"
   ]
  },
  {
   "cell_type": "markdown",
   "metadata": {},
   "source": [
    "In the above example, \"b\" is in the instance's `__dict__`. And so is `c`, once we add it. There's no limit to what we can add to the dictionary, really. Every instance of `Simple` could have a completely different `__dict__`. This is really bad design, of course - all instances should have the same data members (which means you should always asign everything initially in `__init__`.\n",
    "\n",
    "By the way, what's `s.a`? It's a **class** variable. It's shared between all instances of the class, just like a method would be (remember, they are not different). You _very_ rarely need them; they are much more like global variables than anything else. The good news is that if you write `self.a = ...`, then `a` is added to the `__dict__`, and due to the look up I listed above, that's what gets used from now on for that instance, not the class variable. But, really, just don't do it."
   ]
  },
  {
   "cell_type": "markdown",
   "metadata": {},
   "source": [
    "Slots classes were mostly a performance/memory addition; storing the keys for every instance was a huge waste. In modern Python, there are optimizations under the hood, and `__dict__` classes do share keys when they can, but `__slots__` still has a nice correctness feature. Let's try the above with slots:"
   ]
  },
  {
   "cell_type": "code",
   "execution_count": 20,
   "metadata": {},
   "outputs": [],
   "source": [
    "class Strict:\n",
    "    __slots__ = (\"a\", \"b\")\n",
    "\n",
    "\n",
    "s = Strict()\n",
    "s.a = 1\n",
    "s.b = 2"
   ]
  },
  {
   "cell_type": "code",
   "execution_count": 22,
   "metadata": {},
   "outputs": [],
   "source": [
    "# s.c = 3\n",
    "# s.__dict__"
   ]
  },
  {
   "cell_type": "markdown",
   "metadata": {},
   "source": [
    "Now try to assign anything to the instance that is not in slots. It doesn't work! No more mistakes misspelling a member; it just won't work. And you can read the allowed members without digging into `__init__`! Notice there is no `__dict__` now.\n",
    "\n",
    "The process for `__slots__` is rather weird, though. To avoid a `__dict__`, you need to have _every_ class in the MRO to have `__slots__`. If any parent doesn't have a slots, adding a slots would break it, so Python just ignores you if you inherit from a non-slots class. And to find a classes slots, you manually have to merge all `__slots__` in the MRO, it doesn't do it for you.\n",
    "\n",
    "Conceptual question: Does `object` have `__slots__`?"
   ]
  },
  {
   "cell_type": "markdown",
   "metadata": {},
   "source": [
    "## Uses for classes"
   ]
  },
  {
   "cell_type": "markdown",
   "metadata": {},
   "source": [
    "### Data + functions\n",
    "\n",
    "They allow you to bundle data with the functions that run on them. In a language like Python without (much) type overloading, this is important for design (and good for tab completion)."
   ]
  },
  {
   "cell_type": "code",
   "execution_count": 1,
   "metadata": {},
   "outputs": [],
   "source": [
    "# Built in for Python 3.7+, install otherwise\n",
    "from dataclasses import dataclass\n",
    "\n",
    "\n",
    "@dataclass\n",
    "class Vector:\n",
    "    def __init__(self, x: float, y: float) -> None:\n",
    "        self.x = x\n",
    "        self.y = y\n",
    "\n",
    "    def mag(self) -> float:\n",
    "        return (self.x ** 2 + self.y ** 2) ** 0.5"
   ]
  },
  {
   "cell_type": "markdown",
   "metadata": {},
   "source": [
    "> Note: developing a class that represents data has a bit of boilerplate involved, so [attrs](https://www.attrs.org/en/stable/) (third-party) or [dataclasses](https://docs.python.org/3/library/dataclasses.html) (first party in Python 3.7, third-party for 3.6) has a trick to make them _much more easily_, and automatically add things like nice repr's. We'll cover the parts of the syntax here later."
   ]
  },
  {
   "cell_type": "code",
   "execution_count": null,
   "metadata": {},
   "outputs": [],
   "source": [
    "# Built in for Python 3.7+, install otherwise\n",
    "from dataclasses import dataclass\n",
    "\n",
    "\n",
    "@dataclass\n",
    "class Vector:\n",
    "    x: float\n",
    "    y: float\n",
    "\n",
    "    def mag(self) -> float:\n",
    "        return (self.x ** 2 + self.y ** 2) ** 0.5"
   ]
  },
  {
   "cell_type": "code",
   "execution_count": null,
   "metadata": {},
   "outputs": [],
   "source": [
    "v = Vector(3, 4)\n",
    "v.mag()"
   ]
  },
  {
   "cell_type": "markdown",
   "metadata": {},
   "source": [
    "### Functors\n",
    "\n",
    "I just told you it was a bad idea to set something outside your local scope, and often not even a good idea to just view something outside the local scope. So how do you write something that has scope? Use a class as a functor! Compare this:"
   ]
  },
  {
   "cell_type": "code",
   "execution_count": null,
   "metadata": {},
   "outputs": [],
   "source": [
    "_start = 0\n",
    "\n",
    "\n",
    "def incr() -> int:\n",
    "    global _start\n",
    "    _start += 1\n",
    "    return _start"
   ]
  },
  {
   "cell_type": "code",
   "execution_count": null,
   "metadata": {},
   "outputs": [],
   "source": [
    "incr()"
   ]
  },
  {
   "cell_type": "code",
   "execution_count": null,
   "metadata": {},
   "outputs": [],
   "source": [
    "incr()"
   ]
  },
  {
   "cell_type": "markdown",
   "metadata": {},
   "source": [
    "With this:"
   ]
  },
  {
   "cell_type": "code",
   "execution_count": null,
   "metadata": {},
   "outputs": [],
   "source": [
    "class Incr:\n",
    "    def __init__(self, incr: int = 0) -> None:\n",
    "        self.incr = incr\n",
    "\n",
    "    def __call__(self) -> int:\n",
    "        self.incr += 1\n",
    "        return self.incr"
   ]
  },
  {
   "cell_type": "code",
   "execution_count": null,
   "metadata": {},
   "outputs": [],
   "source": [
    "incr = Incr()\n",
    "incr()"
   ]
  },
  {
   "cell_type": "code",
   "execution_count": null,
   "metadata": {},
   "outputs": [],
   "source": [
    "incr()"
   ]
  },
  {
   "cell_type": "markdown",
   "metadata": {},
   "source": [
    "This is explicit, clear, I can have multiple instances without having them interfere, I can see exactly what's going on without having to trace down a global, and I can even set the default value when I make the `Incr` instance!"
   ]
  },
  {
   "cell_type": "markdown",
   "metadata": {},
   "source": [
    "### Modularity\n",
    "\n",
    "Let's say you have an algorithm with three parts. If you make a class that calls three member functions, you can allow a user to replace just one of the functions, and use the original first two. Classes are great for _organization_ and _code reuse_ because of this."
   ]
  },
  {
   "cell_type": "code",
   "execution_count": null,
   "metadata": {},
   "outputs": [],
   "source": [
    "class RunSomethingHard:\n",
    "    def part1(self) -> None:\n",
    "        print(\"Working hard\")\n",
    "\n",
    "    def part2(self) -> None:\n",
    "        print(\"Working harder\")\n",
    "\n",
    "    def part3(self) -> None:\n",
    "        print(\"That was hard!\")\n",
    "\n",
    "    def run(self) -> None:\n",
    "        self.part1()\n",
    "        self.part2()\n",
    "        self.part3()"
   ]
  },
  {
   "cell_type": "code",
   "execution_count": null,
   "metadata": {},
   "outputs": [],
   "source": [
    "inst = RunSomethingHard()\n",
    "inst.run()"
   ]
  },
  {
   "cell_type": "markdown",
   "metadata": {},
   "source": [
    "Now, look at how I can swap out part of the calculation without rewriting from scratch!"
   ]
  },
  {
   "cell_type": "code",
   "execution_count": null,
   "metadata": {},
   "outputs": [],
   "source": [
    "class NewRunSomethingHard(RunSomethingHard):\n",
    "    def part2(self) -> None:\n",
    "        print(\"Nah, this is easy\")"
   ]
  },
  {
   "cell_type": "code",
   "execution_count": null,
   "metadata": {},
   "outputs": [],
   "source": [
    "inst = NewRunSomethingHard()\n",
    "inst.run()"
   ]
  },
  {
   "cell_type": "markdown",
   "metadata": {},
   "source": [
    "### DSL (Domain Specific Language)\n",
    "\n",
    "You can customize almost every behavior of a class to make them very natural for whatever you are doing."
   ]
  },
  {
   "cell_type": "code",
   "execution_count": null,
   "metadata": {},
   "outputs": [],
   "source": [
    "class Path(str):\n",
    "    def __truediv__(self, other):\n",
    "        return self.__class__(f\"{self}/{other}\")"
   ]
  },
  {
   "cell_type": "code",
   "execution_count": null,
   "metadata": {},
   "outputs": [],
   "source": [
    "Path(\".\") / \"myfile\" / \"program.py\""
   ]
  },
  {
   "cell_type": "markdown",
   "metadata": {},
   "source": [
    "> Just in case you want to make a Path class like the one above - don't, use pathlib instead. We could have written `self.__class__` as `Path`, but then this would not subclass correctly and besides, using the class name inside the class is ugly and makes it harder to rename. If you return a normal string, then you can't keep applying `/`.\n",
    ">\n",
    "> Also, I left off type annotations for this example, as to do them properly I need to use a TypeVar."
   ]
  },
  {
   "cell_type": "markdown",
   "metadata": {},
   "source": [
    "### Mixins (advanced)\n",
    "\n",
    "If you follow good practices, you can even make collections of behaviors and mix them into other classes - specifically, a mixin should not have an `__init__` or any new data members. (The second requirement is more important than the first, if you are careful to use `super()`. Let's rewrite the last example with mixins:"
   ]
  },
  {
   "cell_type": "code",
   "execution_count": null,
   "metadata": {},
   "outputs": [],
   "source": [
    "class PathMixin:\n",
    "    def __truediv__(self, other):\n",
    "        return self.__class__(f\"{self}/{other}\")\n",
    "\n",
    "\n",
    "class Path(str, PathMixin):\n",
    "    pass\n",
    "\n",
    "\n",
    "Path(\".\") / \"myfile\" / \"program.py\""
   ]
  },
  {
   "cell_type": "markdown",
   "metadata": {},
   "source": [
    "> Potentially show demo here?"
   ]
  },
  {
   "cell_type": "markdown",
   "metadata": {},
   "source": [
    "### Other: ABC, Protocols, and more\n",
    "\n",
    "Other useful things to look into are ABCs (Abstract Base Classes) and Protocols. These let you a) require certain methods be implemented by users, and b) formalize \"duck typing\". ABC's are a run-time feature, and kind of half-broken; you have to instantiate an ABC class to get the benefit of the checking. Protocols are a \"type-check time\" feature, and are far better and don't require special inheritance, but only are enforced by type checkers (see a later section!)."
   ]
  },
  {
   "cell_type": "markdown",
   "metadata": {},
   "source": [
    "## Design considerations\n",
    "\n",
    "Object oriented programming has been known to make it easy to create spaghetti messes of code. The following tips will help you not fall into the trap and end up with poorly designed code. \"Make it a class\", by itself, will not magically make your code better."
   ]
  },
  {
   "cell_type": "markdown",
   "metadata": {},
   "source": [
    "### Modular design\n",
    "\n",
    "You should break your code into _concepts_, and classes should help map those concepts to the computer. Different components of a detector might be classes, with an instance for each component. A vector, a URL, a remote data source, etc. You might have a class representing a unit of an analysis, and use either inheritance (okay) or a protocol (better, reduces coupling) to have real data processing vs. simulation generation. Etc."
   ]
  },
  {
   "cell_type": "markdown",
   "metadata": {},
   "source": [
    "### Unit test\n",
    "\n",
    "We will mention testing later, and there is another course on it, but I'm focusing on the word _unit_. You need to be able to run your classes standalone, in unit tests, and not only inplace. This keeps the design modular - you will resist the desire to make a class that needs a class to make another class inside a class that only works with the file that sits on your work laptop, etc. And you'll be free to redesign parts without having to worry about everything breaking down.\n",
    "\n",
    "Always use PyTest for unit testing."
   ]
  },
  {
   "cell_type": "markdown",
   "metadata": {},
   "source": [
    "### Functional design tips\n",
    "\n",
    "**Classes with multiple states are bad**: If you have classes that init, then call some function like `.read_data()`, this is bad design. It's better to do the read in the `__init__` or as a `classmethod`. If you have two distinct states, then you have to design every method to be aware of both possible states! It's much better to either do the init at the beginning, or have two classes, one for each state.\n",
    "\n",
    "**Never assign new members outside of __init__**: This is similar to the above point; if you assign a new member after init, then you now have two states; a \"without\" and a \"with\", so now you have to check `hasattr` in every other method, since you can't be sure what order the methods will be called in. Better to at least assign None in `__init__`. Or use `dataclasses`/`attrs`.\n",
    "\n",
    "**Consider functional design**: Python is object oriented, but it does support functional design, and it's worth thinking about it. Functional design has functions that are stateless, so you can chain them. So instead of:\n",
    "\n",
    "```python\n",
    "a = Thing()\n",
    "a.init()\n",
    "a.cleanup()\n",
    "```\n",
    "\n",
    "You would use:\n",
    "\n",
    "```python\n",
    "a = Thing().init().cleanup()\n",
    "```\n",
    "\n",
    "The only reason the first example could be better is due to memory usage/copying, which usually isn't a problem in Python. If it's an error to call `cleanup()` before `init()`, you can enforce that statically via classes in the second example, while the first example will just crash at runtime.\n",
    "\n",
    "**Support static design wherever possible**: We will cover this later, but if you add things that are not statically sound, you probably should redesign. Simply supporting static typing tends to push you toward better design, and away from problems like those listed above.\n"
   ]
  }
 ],
 "metadata": {
  "kernelspec": {
   "display_name": "conda-env-level-up-your-python-py",
   "language": "python",
   "name": "conda-env-level-up-your-python-py"
  },
  "language_info": {
   "codemirror_mode": {
    "name": "ipython",
    "version": 3
   },
   "file_extension": ".py",
   "mimetype": "text/x-python",
   "name": "python",
   "nbconvert_exporter": "python",
   "pygments_lexer": "ipython3",
   "version": "3.8.6"
  },
  "toc-autonumbering": false,
  "toc-showmarkdowntxt": false,
  "toc-showtags": false
 },
 "nbformat": 4,
 "nbformat_minor": 4
}
