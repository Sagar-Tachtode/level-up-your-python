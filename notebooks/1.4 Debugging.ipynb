{
 "cells": [
  {
   "cell_type": "markdown",
   "metadata": {},
   "source": [
    "# Debugging\n",
    "\n",
    "Code always eventually breaks. Let's look at some broken code: "
   ]
  },
  {
   "cell_type": "code",
   "execution_count": null,
   "metadata": {},
   "outputs": [],
   "source": [
    "from typing import Tuple\n",
    "import sys"
   ]
  },
  {
   "cell_type": "code",
   "execution_count": null,
   "metadata": {},
   "outputs": [],
   "source": [
    "def broken() -> None:\n",
    "    1 / 0"
   ]
  },
  {
   "cell_type": "code",
   "execution_count": null,
   "metadata": {},
   "outputs": [],
   "source": [
    "def my_broken_function() -> Tuple[int, int]:\n",
    "    x = 6\n",
    "    y = 4\n",
    "    x += 2\n",
    "    y *= 2\n",
    "    x -= y\n",
    "    y /= x\n",
    "    return x, y"
   ]
  },
  {
   "cell_type": "code",
   "execution_count": null,
   "metadata": {},
   "outputs": [],
   "source": [
    "my_broken_function()"
   ]
  },
  {
   "cell_type": "markdown",
   "metadata": {},
   "source": [
    "## IPython debugger\n",
    "Try writing `%debug` into the cell below! (you can even skip the `%`)"
   ]
  },
  {
   "cell_type": "code",
   "execution_count": null,
   "metadata": {},
   "outputs": [],
   "source": [
    "# %debug"
   ]
  },
  {
   "cell_type": "markdown",
   "metadata": {},
   "source": [
    "The mini-language here is `pdb`, and is similar to `gdb` and many other debuggers. You can step forward, up, etc. You can set breakpoints, or in Python 3.7+, you can just write `breakpoint()` anywhere, and the \"current\" debugger will pick up there!"
   ]
  },
  {
   "cell_type": "markdown",
   "metadata": {},
   "source": [
    "## Rich tracebacks\n",
    "\n",
    "Another trick comes from the Rich library. You can install a nicer traceback handler. Currently it seems like it's only displayed for normal Python (not in notebooks, even though Rich supports them - IPython takes over the traceback display), but it's too cool to pass up:"
   ]
  },
  {
   "cell_type": "code",
   "execution_count": null,
   "metadata": {},
   "outputs": [],
   "source": [
    "import rich.traceback\n",
    "\n",
    "rich.traceback.install(show_locals=True)"
   ]
  },
  {
   "cell_type": "code",
   "execution_count": null,
   "metadata": {},
   "outputs": [],
   "source": [
    "%%writefile tmp_norich.py\n",
    "\n",
    "def my_broken_function():\n",
    "    x = 6\n",
    "    y = 4\n",
    "    x += 2\n",
    "    y *= 2\n",
    "    x -= y\n",
    "    y /= x\n",
    "    return x, y\n",
    "\n",
    "my_broken_function()"
   ]
  },
  {
   "cell_type": "code",
   "execution_count": null,
   "metadata": {},
   "outputs": [],
   "source": [
    "!{sys.executable} tmp_norich.py"
   ]
  },
  {
   "cell_type": "code",
   "execution_count": null,
   "metadata": {},
   "outputs": [],
   "source": [
    "%%writefile tmp_rich.py\n",
    "import rich.traceback\n",
    "rich.traceback.install(show_locals=True)\n",
    "\n",
    "\n",
    "def my_broken_function():\n",
    "    x = 6\n",
    "    y = 4\n",
    "    x += 2\n",
    "    y *= 2\n",
    "    x -= y\n",
    "    y /= x\n",
    "    return x, y\n",
    "\n",
    "my_broken_function()"
   ]
  },
  {
   "cell_type": "code",
   "execution_count": null,
   "metadata": {},
   "outputs": [],
   "source": [
    "!{sys.executable} tmp_rich.py"
   ]
  }
 ],
 "metadata": {
  "kernelspec": {
   "display_name": "conda-env-level-up-your-python-py",
   "language": "python",
   "name": "conda-env-level-up-your-python-py"
  },
  "language_info": {
   "codemirror_mode": {
    "name": "ipython",
    "version": 3
   },
   "file_extension": ".py",
   "mimetype": "text/x-python",
   "name": "python",
   "nbconvert_exporter": "python",
   "pygments_lexer": "ipython3",
   "version": "3.8.6"
  }
 },
 "nbformat": 4,
 "nbformat_minor": 4
}
