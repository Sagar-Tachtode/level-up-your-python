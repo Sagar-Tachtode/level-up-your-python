{
 "cells": [
  {
   "cell_type": "markdown",
   "id": "cbc0cade-d116-47e5-bb55-2cb2b4ad4da6",
   "metadata": {},
   "source": [
    "### Creating packages"
   ]
  },
  {
   "cell_type": "markdown",
   "id": "535aefce-e403-4751-ad9e-6ed88883de0c",
   "metadata": {},
   "source": [
    "Now, let's change gears and look at creating our own packages. If you want to make your code accessible to someone else to use via `pip` install, you need to make it a package. In fact, as you'll see at the end of this section, even if you just want to develop an application, it's much better to be working in a package. I won't show you the internals of setting up a setuptools package, but we'll just go over how you work with it and how it is distributed.\n",
    "\n",
    "To install a local package, use:\n",
    "\n",
    "```bash\n",
    "pip install .\n",
    "```\n",
    "\n",
    "This will _copy_ the files into site-packages. If you want to actively develop a module, use this instead (setuptools only, command varies on other tools):\n",
    "\n",
    "```bash\n",
    "pip install -e .\n",
    "```\n",
    "\n",
    "This uses symlink(s) so that you can edit the local files and immediatly see the changes (after restarting Python, as usual)."
   ]
  },
  {
   "cell_type": "markdown",
   "id": "944d2903-1e6a-4a02-bddc-090e139b54a5",
   "metadata": {},
   "source": [
    "If you want to produce an SDist for distributing the source, use\n",
    "\n",
    "\n",
    "```bash\n",
    "pip install build\n",
    "python -m build --sdist\n",
    "```\n",
    "\n",
    "If you want to produce a wheel for distributing, use\n",
    "\n",
    "```bash\n",
    "python -m build --wheel\n",
    "```\n",
    "\n",
    "You'll see old tutorials directly call `python setup.py ...`; if you can possibly avoid doing that, please do! The `setup.py` file is still a good idea for setuptools, but it's not even required there (and doesn't exist for any other packaging software). (It's also quite valid to use pipx to install build, but remember the command is `pyproject-build` if you do that)."
   ]
  },
  {
   "cell_type": "markdown",
   "id": "457cb2bc-7eea-4cb2-bebf-ab68ee30a8e5",
   "metadata": {},
   "source": [
    "## Distributions\n",
    "\n",
    "### Wheel: fast and simple\n",
    "\n",
    "A wheel is just a normal zipped file with the extension `.whl`. It contains folders that get copied to specific locations, and a metadata folder.\n",
    "\n",
    "It _does not_ contain `setup.py`/`setup.cfg`/`pyproject.toml`.\n",
    "\n",
    "\n",
    "Why use wheels?\n",
    "\n",
    "* Secure installs - arbitrary code does not run\n",
    "* Fast installs - files are just copied inplace\n",
    "* Reliable - does not depend on pretty much anything being on user's machine, including setuptools!\n",
    "* Faster first imports - pip makes .pyc files when it installs\n",
    "* Can be tagged for Python version, OS, and/or architecture (supports binaries!).\n",
    "\n",
    "See <https://pythonwheels.com>"
   ]
  },
  {
   "cell_type": "markdown",
   "id": "dfc5e3cf-1083-439f-8f32-74465b49745f",
   "metadata": {},
   "source": [
    "### SDist: Source distribution\n",
    "\n",
    "This is a `.tar.gz` file holding the files needed to make a wheel. It is often a subset of the files in the GitHub repo, though sometimes it contains generated files, like `version.py` or maybe Cython/SWIG generated source files. If there is no matching wheel (only for projects with binary components, in general), then pip gets the SDist and builds/installs manually."
   ]
  },
  {
   "cell_type": "markdown",
   "id": "5db28d41-3187-47b8-8970-874ff8b95934",
   "metadata": {},
   "source": [
    "## Poetry: A breath of fresh air\n",
    "\n",
    "\n",
    "Let's look at an all-in-one solution: Poetry. It is a bit young, and somewhat opinionated (like all tools replacing a broken standard, it wants to stand out). There are some caveats:\n",
    "\n",
    "* Should be pure python (no compiled extensions in your code)\n",
    "* Should be PyPI based (no Conda integration AFAIK)\n",
    "* Updates to `packaging` take a bit longer to get in (due to PyPA syncing releases with pip and not poetry)\n",
    "    - Currently can't get wheels on macOS Big Sur, for example, due to a recently fixed packaging issue\n",
    "    \n",
    "    \n",
    "I'm strongly against some of the decisions in Poetry, along with a majority of the other PyPA members and Python core develoeprs. These decisions were mostly made for \"application\" uses, so they are only problematic when making a library. You can avoid them, just follow the following rules:\n",
    "\n",
    "* Never add an upper limit to your Python version. `^3.6` should be changed to `>=3.6`. Poetry will _force_ you to add an upper limit if a package you include does this, though, so the bad practice percolates.\n",
    "* Never add an upper limit to a project you don't heavily depend on unless you know you really don't support some version. It's much more likely that you will support the next version than you won't, and makes a mess for solving this later, and forces you to constantly \"maintain\" the upper limit."
   ]
  },
  {
   "cell_type": "markdown",
   "id": "a1a85c29-ea64-43b6-a27a-a87bd32c3905",
   "metadata": {},
   "source": [
    "### Step 1: make a new project"
   ]
  },
  {
   "cell_type": "code",
   "execution_count": null,
   "id": "c8364a76-ddb3-4c72-8bf9-16eae6ab9b3c",
   "metadata": {},
   "outputs": [],
   "source": [
    "!poetry new tmp_project"
   ]
  },
  {
   "cell_type": "code",
   "execution_count": null,
   "id": "9c84e66d-75ba-41b2-a9c8-84dacf7db8e0",
   "metadata": {},
   "outputs": [],
   "source": [
    "%ls tmp_project/"
   ]
  },
  {
   "cell_type": "code",
   "execution_count": null,
   "id": "6a1eaddb-a42b-4a89-9483-8b3da45db198",
   "metadata": {},
   "outputs": [],
   "source": [
    "%cat tmp_project/pyproject.toml"
   ]
  },
  {
   "cell_type": "markdown",
   "id": "fa155325-7bf5-454b-aa89-b8fcc0a1b943",
   "metadata": {},
   "source": [
    "The following commands I'll demo in a shell, if I have time.\n",
    "\n",
    "```bash\n",
    "# Create a virtual environment, start the poetry.lock file\n",
    "poetry install\n",
    "\n",
    "# \"Enter\" the environment (Ctrl-D or exit to exit)\n",
    "poetry shell\n",
    "\n",
    "# Run without entering the environment\n",
    "poetry run ...\n",
    "\n",
    "# Add a new package (--dev to make it development only)\n",
    "# Modifies your pyproject.toml\n",
    "poetry add rich\n",
    "\n",
    "# Update the environment and lock files\n",
    "poetry update\n",
    "\n",
    "# You can use python -m build, or you can use poetry build\n",
    "# You can publish to PyPI with poetry publish\n",
    "# And that's package + environment management!\n",
    "```"
   ]
  },
  {
   "cell_type": "markdown",
   "id": "d9fd1f8a-2706-4212-ab9c-87d69da0922f",
   "metadata": {},
   "source": [
    "When you publish your package, it makes completely normal wheels, so `pip install` works exactly as expected.\n",
    "\n",
    "New developers can start developing right away by getting your repository and running `poetry install`. They _even get the dev dependencies_ by default! (which was a brilliant choice, IMO). They start with the lock file if it exists, so they always get what you have, and anyone can run `poetry update` if needed."
   ]
  },
  {
   "cell_type": "markdown",
   "id": "92b88e4b-3fab-4b4d-9177-c494f3a19d49",
   "metadata": {},
   "source": [
    "## Setuptools: Classic, powerful, verbose\n",
    "\n",
    "The most powerful (and originally, forced by pip) tool is setuptools. This is a collection of hacks built on top of distutils, which is a collections of hacks to build packages (which was the standard library tool that is now deprecated and may be removed in Python 3.12). There are some awful examples around on using it, so look at <https://scikit-hep.org/developer> for a proper example.\n",
    "\n",
    "The short version:\n",
    "\n",
    "* Use declarative `setup.cfg` for everything you can\n",
    "     - Use file: to read files\n",
    "     - Always use find: for packages - include or exclude if you need to\n",
    "     - Always set `python_requires`!\n",
    "* Logic goes in `setup.py`; often it's just `from setuptools import setup; setup()`\n",
    "     - Binary extensions go here too\n",
    "     - You don't need this file at all much of the time.\n",
    "* Always include a `pyproject.toml`, often it's just 5 or so lines\n",
    "* Check your `MANIFEST.in` to make sure it's not missing things going into the SDist"
   ]
  }
 ],
 "metadata": {
  "kernelspec": {
   "display_name": "conda-env-level-up-your-python-py",
   "language": "python",
   "name": "conda-env-level-up-your-python-py"
  },
  "language_info": {
   "codemirror_mode": {
    "name": "ipython",
    "version": 3
   },
   "file_extension": ".py",
   "mimetype": "text/x-python",
   "name": "python",
   "nbconvert_exporter": "python",
   "pygments_lexer": "ipython3",
   "version": "3.8.6"
  }
 },
 "nbformat": 4,
 "nbformat_minor": 5
}
