{
 "cells": [
  {
   "cell_type": "markdown",
   "metadata": {},
   "source": [
    "# Level Up your Python\n",
    "\n",
    "**Henry Schreiner**\n",
    "\n",
    "- [x] Make JupyterBook\n",
    "- [ ] Fill in remaining lessons\n",
    "- [ ] Make a logo\n",
    "- [ ] Run spell checker\n",
    "- [ ] Add lots of links\n",
    "- [ ] Add some instructions to README, check binder"
   ]
  },
  {
   "cell_type": "markdown",
   "metadata": {},
   "source": [
    "## Introduction\n",
    "\n",
    "### Expected Knoledge\n",
    "\n",
    "You should already know:\n",
    "\n",
    "* Basic Python syntax\n",
    "* Functions\n",
    "* Basic classes (will cover quickly)\n",
    "* Basic NumPy (will mention)\n",
    "* Git - _CRITICAL FOR ANY SOFTWARE WORK!_\n",
    "\n",
    "And we will be using notebooks in JupyterLab, but won't be talking about them much, except for one disclaimer: They are for teaching, testing, prototyping, and final analysis driving - they are _NOT_ a place to store significant amounts of code! Refactor into a file once you have developed something!"
   ]
  },
  {
   "cell_type": "markdown",
   "metadata": {},
   "source": [
    "## About the author\n",
    "\n",
    "[![Henryiii's github stats](https://github-readme-stats.vercel.app/api?username=henryiii)](https://github.com/anuraghazra/github-readme-stats)\n",
    "\n",
    "https://iscinumpy.gitlab.io\n",
    "\n",
    "Scikit-HEP admin, member of IRIS-HEP.\n",
    "\n",
    "### Projects\n",
    "\n",
    "cibuildwheel • pybind11 • boost-histogram • Hist • Vector • CLI11 • Plumbum • GooFit • Particle • DecayLanguage • Conda-Forge ROOT • POVM\n",
    "\n",
    "### Intrests:\n",
    "\n",
    "Packaging and building • Bindings • Building a HEP analysis toolchain in Python, JITable"
   ]
  },
  {
   "cell_type": "markdown",
   "metadata": {},
   "source": [
    "## Tempering your expectations\n",
    "\n",
    "### What can you expect?\n",
    "\n",
    "* I don't know what you know\n",
    "* We don't have time to study any topic in depth.\n",
    "\n",
    "So, we will move _fast_, and cover a _lot_.\n",
    "\n",
    "You are not expected to able to master everything you see.\n",
    "\n",
    "### Instead, you are expected to:\n",
    "\n",
    "1. Know what is possible, so you know to look for it\n",
    "2. Get pointers on where to look (lots of links!)\n",
    "3. Refer back to this material later."
   ]
  },
  {
   "cell_type": "markdown",
   "metadata": {},
   "source": [
    "## Theory: New features in programming\n",
    "\n",
    "Programming is all about _orginization_. This is not always obvious, and has some odd consequences. Let's look at one: **new features remove functionality from the user**.\n",
    "\n",
    "Don't believe me? Pick one. Let's go with an old, simple one you should already know: `goto` vs. loops (`for`/`while`). (This is my favorite example, even though Python thankfully came along late enough to not even have `goto` in the first place, except as an April fools joke.)\n",
    "\n",
    "\n",
    "You have total power with goto! Jump from anywhere, too anywhere! You can recreate all loops with it, and more! So why are loops the newer, better feature?"
   ]
  },
  {
   "cell_type": "markdown",
   "metadata": {},
   "source": [
    "**goto ([partially hypothetical](https://github.com/snoack/python-goto) in Python)**\n",
    "```python\n",
    "i = 0\n",
    "label .start\n",
    "print(f\"Hi {i}\")\n",
    "i + 1\n",
    "if i <= 10:\n",
    "    goto .start\n",
    "```"
   ]
  },
  {
   "cell_type": "markdown",
   "metadata": {},
   "source": [
    "**Compare to for loop:**\n",
    "    "
   ]
  },
  {
   "cell_type": "code",
   "execution_count": null,
   "metadata": {},
   "outputs": [],
   "source": [
    "for i in range(10):\n",
    "    print(f\"Hi {i}\")"
   ]
  },
  {
   "cell_type": "markdown",
   "metadata": {},
   "source": [
    "A programmer has to spend time to recognize what is happing in the first example - in the second example, even a fairly new Python programmer will immediatly say \"that prints 0 to 9\". The second example lets you build more complex programs, because you are working at a 'higher level', humans tend to do better which high level concepts (while computers work up from low level)."
   ]
  }
 ],
 "metadata": {
  "kernelspec": {
   "display_name": "conda-env-level-up-your-python-py",
   "language": "python",
   "name": "conda-env-level-up-your-python-py"
  },
  "language_info": {
   "codemirror_mode": {
    "name": "ipython",
    "version": 3
   },
   "file_extension": ".py",
   "mimetype": "text/x-python",
   "name": "python",
   "nbconvert_exporter": "python",
   "pygments_lexer": "ipython3",
   "version": "3.8.6"
  },
  "toc-autonumbering": false,
  "toc-showmarkdowntxt": false,
  "toc-showtags": false
 },
 "nbformat": 4,
 "nbformat_minor": 4
}
